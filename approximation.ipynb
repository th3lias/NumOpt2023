{
 "cells": [
  {
   "cell_type": "code",
   "execution_count": 1,
   "id": "c4e7d2b7-a6ea-48f6-95fb-bfa532a620b7",
   "metadata": {},
   "outputs": [],
   "source": [
    "import numpy as np"
   ]
  },
  {
   "cell_type": "markdown",
   "id": "a39ccf93-7ae0-46e3-8d9d-09de44144fe8",
   "metadata": {},
   "source": [
    "1. Rosenbrock function"
   ]
  },
  {
   "cell_type": "code",
   "execution_count": 2,
   "id": "a7a7a2b6-cc10-4ae9-8fed-c38720c73f86",
   "metadata": {},
   "outputs": [],
   "source": [
    "def f(x):\n",
    "    return 100 * np.power(x[1] - np.power(x[0], 2), 2) + np.power(1 - x[0], 2)"
   ]
  },
  {
   "cell_type": "code",
   "execution_count": 3,
   "id": "45d97e85-a52c-4e2e-b297-01abcaaed337",
   "metadata": {},
   "outputs": [],
   "source": [
    "def f_grad(x):\n",
    "    x1, x2 = x\n",
    "    grad = np.empty_like(x)\n",
    "    grad[0] = -400 * x1 * x2 + 400 * np.power(x1, 3) - 2 - 2 * x1\n",
    "    grad[1] = 200 * x2 - 200 * np.power(x1, 2)\n",
    "    return grad"
   ]
  },
  {
   "cell_type": "code",
   "execution_count": 4,
   "id": "368dc8c0-7479-4d1f-ab6e-a9ee92abded8",
   "metadata": {},
   "outputs": [],
   "source": [
    "def f_hessian(x):\n",
    "    hessian = np.empty(shape=(2, 2))\n",
    "    x1, x2 = x\n",
    "    hessian[0, 0] = -400 * x2 + 1200 * np.power(x1, 2) + 2\n",
    "    hessian[0, 1] = -400 * x1\n",
    "    hessian[1, 0] = -400 * x1\n",
    "    hessian[1, 1] = 200\n",
    "    return hessian"
   ]
  },
  {
   "cell_type": "markdown",
   "id": "aca12f05-6b4e-48d3-b9b9-0ecda6f5df5a",
   "metadata": {},
   "source": [
    "2. Other function"
   ]
  },
  {
   "cell_type": "code",
   "execution_count": 5,
   "id": "e3b3cf5a-d5c0-4885-bc72-cf16d2424f95",
   "metadata": {},
   "outputs": [],
   "source": [
    "def g(x):\n",
    "    x1, x2 = x\n",
    "    return 150 * np.power(x1 * x2, 2) + np.power(x1/2 + 2 * x2 - 2, 2)"
   ]
  },
  {
   "cell_type": "code",
   "execution_count": 6,
   "id": "717cc3e0-857b-4427-9342-e0405db58ea9",
   "metadata": {},
   "outputs": [],
   "source": [
    "def g_grad(x):\n",
    "    x1, x2 = x\n",
    "    grad = np.empty_like(x)\n",
    "    grad[0] = 300 * x1 * np.power(x2, 2) + (x1 + 4 * x2 - 4) * 0.5\n",
    "    grad[1] = 300 * x2 * np.power(x1, 2) + (x1 + 4 * x2 - 4) * 2\n",
    "    return grad"
   ]
  },
  {
   "cell_type": "code",
   "execution_count": 12,
   "id": "ad9f3ecb-1c3e-40a3-ad99-8aee31491ef7",
   "metadata": {},
   "outputs": [],
   "source": [
    "def g_hessian(x):\n",
    "    hessian = np.empty(shape=(2, 2))\n",
    "    x1, x2 = x\n",
    "    hessian[0, 0] = 300 * np.power(x2, 2) + 0.5\n",
    "    hessian[0, 1] = 600 * x1 * x2 + 2\n",
    "    hessian[1, 0] = hessian[0, 1]\n",
    "    hessian[1, 1] = 300 * np.power(x1, 2) + 8\n",
    "    return hessian"
   ]
  },
  {
   "cell_type": "code",
   "execution_count": 8,
   "id": "a8bd9655-90ba-4274-8bd6-ceed90e464e0",
   "metadata": {},
   "outputs": [],
   "source": [
    "def approximate_gradient(f, x, eps=np.power(1.1e-16, 1/3, dtype='float32')):\n",
    "    grad = np.empty_like(x)\n",
    "\n",
    "    for i in range(x.shape[0]):\n",
    "        ei = np.zeros_like(x)\n",
    "        ei[i] = eps\n",
    "        grad[i] = (f(x + ei) - f(x - ei)) / (2 * eps)\n",
    "\n",
    "    return grad"
   ]
  },
  {
   "cell_type": "code",
   "execution_count": 9,
   "id": "d83840e9-7280-403f-a789-69cf7d81b473",
   "metadata": {},
   "outputs": [],
   "source": [
    "def approximate_hessian(f, x, eps=np.power(1.1e-16, 1/3, dtype='float32')):\n",
    "    hessian = np.empty(shape=(x.shape[0], x.shape[0]), dtype=x.dtype)\n",
    "\n",
    "    for i in range(x.shape[0]):\n",
    "        for j in range(x.shape[0]):\n",
    "            ei = np.zeros_like(x)\n",
    "            ei[i] = eps\n",
    "            ej = np.zeros_like(x)\n",
    "            ej[j] = eps\n",
    "            hessian[i, j] = (f(x + ei + ej) - f(x + ei) - f(x + ej) + f(x)) / np.power(eps, 2)\n",
    "\n",
    "    return hessian"
   ]
  },
  {
   "cell_type": "markdown",
   "id": "be6ca1f9-4ec3-47d3-b02e-0a6292509b5e",
   "metadata": {},
   "source": [
    "Rosenbrock function"
   ]
  },
  {
   "cell_type": "code",
   "execution_count": 10,
   "id": "c4fea156-549e-45be-9fe7-ae199f8f8780",
   "metadata": {},
   "outputs": [
    {
     "name": "stdout",
     "output_type": "stream",
     "text": [
      "======================================================================\n",
      "Point: 1.2 1.2\n",
      "Exact Calculation:\n",
      "f grad(x) [110.80003  -48.000015]\n",
      "f hessian(x)\n",
      " [[1250.00011826 -480.00001907]\n",
      " [-480.00001907  200.        ]]\n",
      "Numerical approximation\n",
      "f grad approximated(x) [115.04401  -47.769135]\n",
      "f hessian approximated(x)\n",
      " [[1238.0177  -475.39447]\n",
      " [-475.39447  198.08067]]\n",
      "Error gradient: 4.2502484\n",
      "Error hessian: 13.772593018295234\n",
      "======================================================================\n",
      "Point: -1.2 1.0\n",
      "Exact Calculation:\n",
      "f grad(x) [-210.80006  -88.00002]\n",
      "f hessian(x)\n",
      " [[1330.00013733  480.00001907]\n",
      " [ 480.00001907  200.        ]]\n",
      "Numerical approximation\n",
      "f grad approximated(x) [-214.56303   -87.576744]\n",
      "f hessian approximated(x)\n",
      " [[1317.2229   475.39276]\n",
      " [ 475.39276  198.0808 ]]\n",
      "Error gradient: 3.7867014\n",
      "Error hessian: 14.470479611000002\n",
      "======================================================================\n",
      "Point: 0.2 0.8\n",
      "Exact Calculation:\n",
      "f grad(x) [-63.2 152. ]\n",
      "f hessian(x)\n",
      " [[-270.00000334  -80.00000119]\n",
      " [ -80.00000119  200.        ]]\n",
      "Numerical approximation\n",
      "f grad approximated(x) [-62.487984 151.26889 ]\n",
      "f hessian approximated(x)\n",
      " [[-270.75983   -79.728386]\n",
      " [ -79.728386  198.08095 ]]\n",
      "Error gradient: 1.0205339\n",
      "Error hessian: 2.099438554028578\n",
      "======================================================================\n"
     ]
    }
   ],
   "source": [
    "starting_points = [np.array([1.2, 1.2], dtype='float32'), np.array([-1.2, 1], dtype='float32'), np.array([0.2, 0.8], dtype='float32')]\n",
    "\n",
    "print(\"======================================================================\")\n",
    "for x in starting_points:\n",
    "    x1, x2 = x\n",
    "    print(\"Point:\", x1, x2)\n",
    "    print(\"Exact Calculation:\")\n",
    "    print(\"f grad(x)\", f_grad(x))\n",
    "    print(\"f hessian(x)\\n\", f_hessian(x))\n",
    "    print(\"Numerical approximation\")\n",
    "    f_grad_approx = lambda x : approximate_gradient(f, x)\n",
    "    f_hessian_approx = lambda x : approximate_hessian(f, x)\n",
    "    print(\"f grad approximated(x)\", f_grad_approx(x))\n",
    "    print(\"f hessian approximated(x)\\n\", f_hessian_approx(x))\n",
    "    print(\"Error gradient:\", np.linalg.norm(f_grad(x) - f_grad_approx(x)))\n",
    "    print(\"Error hessian:\", np.linalg.norm(f_hessian(x) - f_hessian_approx(x)))\n",
    "    print(\"======================================================================\")"
   ]
  },
  {
   "cell_type": "code",
   "execution_count": 13,
   "id": "3b6085b9-7599-419a-9a4f-aede594a959e",
   "metadata": {},
   "outputs": [
    {
     "name": "stdout",
     "output_type": "stream",
     "text": [
      "======================================================================\n",
      "Point: -0.2 1.2\n",
      "Exact Calculation:\n",
      "f grad(x) [-86.100006  15.600001]\n",
      "f hessian(x)\n",
      " [[ 432.50003433 -142.00000787]\n",
      " [-142.00000787   20.00000036]]\n",
      "Numerical approximation\n",
      "f grad approximated(x) [-86.2438    15.524965]\n",
      "f hessian approximated(x)\n",
      " [[-4.6298023e+04 -6.9687241e+01]\n",
      " [-6.9687241e+01  1.9808064e+01]]\n",
      "Error gradient: 0.16219223\n",
      "Error hessian: 46730.63537189417\n",
      "======================================================================\n",
      "Point: 3.8 0.1\n",
      "Exact Calculation:\n",
      "f grad(x) [ 11.5 433.6]\n",
      "f hessian(x)\n",
      " [[3.50000009e+00 2.30000001e+02]\n",
      " [2.30000001e+02 4.33999989e+03]]\n",
      "Numerical approximation\n",
      "f grad approximated(x) [ 11.444685 433.64346 ]\n",
      "f hessian approximated(x)\n",
      " [[3.46641111e+00 1.15453156e+02]\n",
      " [1.15453156e+02 4.34086865e+03]]\n",
      "Error gradient: 0.070343904\n",
      "Error hessian: 161.99603477108425\n",
      "======================================================================\n",
      "Point: 1.9 0.6\n",
      "Exact Calculation:\n",
      "f grad(x) [205.35002 650.4    ]\n",
      "f hessian(x)\n",
      " [[ 108.50000858  686.0000186 ]\n",
      " [ 686.0000186  1090.99997282]]\n",
      "Numerical approximation\n",
      "f grad approximated(x) [204.36227 647.2716 ]\n",
      "f hessian approximated(x)\n",
      " [[ 107.45875  340.6987 ]\n",
      " [ 340.6987  1080.5299 ]]\n",
      "Error gradient: 3.2806468\n",
      "Error hessian: 488.44314696188826\n",
      "======================================================================\n"
     ]
    }
   ],
   "source": [
    "starting_points = [np.array([-0.2, 1.2], dtype='float32'), np.array([3.8, 0.1], dtype='float32'), np.array([1.9, 0.6], dtype='float32')]\n",
    "\n",
    "print(\"======================================================================\")\n",
    "for x in starting_points:\n",
    "    x1, x2 = x\n",
    "    print(\"Point:\", x1, x2)\n",
    "    print(\"Exact Calculation:\")\n",
    "    print(\"f grad(x)\", g_grad(x))\n",
    "    print(\"f hessian(x)\\n\", g_hessian(x))\n",
    "    print(\"Numerical approximation\")\n",
    "    g_grad_approx = lambda x : approximate_gradient(g, x)\n",
    "    g_hessian_approx = lambda x : approximate_hessian(g, x)\n",
    "    print(\"f grad approximated(x)\", g_grad_approx(x))\n",
    "    print(\"f hessian approximated(x)\\n\", g_hessian_approx(x))\n",
    "    print(\"Error gradient:\", np.linalg.norm(g_grad(x) - g_grad_approx(x)))\n",
    "    print(\"Error hessian:\", np.linalg.norm(g_hessian(x) - g_hessian_approx(x)))\n",
    "    print(\"======================================================================\")"
   ]
  },
  {
   "cell_type": "code",
   "execution_count": null,
   "id": "ce955843-4aa1-45ab-9748-ec62b59d4ed6",
   "metadata": {},
   "outputs": [],
   "source": []
  }
 ],
 "metadata": {
  "kernelspec": {
   "display_name": "Python 3 (ipykernel)",
   "language": "python",
   "name": "python3"
  },
  "language_info": {
   "codemirror_mode": {
    "name": "ipython",
    "version": 3
   },
   "file_extension": ".py",
   "mimetype": "text/x-python",
   "name": "python",
   "nbconvert_exporter": "python",
   "pygments_lexer": "ipython3",
   "version": "3.9.8"
  }
 },
 "nbformat": 4,
 "nbformat_minor": 5
}
