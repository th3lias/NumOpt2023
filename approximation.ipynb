{
 "cells": [
  {
   "cell_type": "code",
   "execution_count": 1,
   "id": "c4e7d2b7-a6ea-48f6-95fb-bfa532a620b7",
   "metadata": {},
   "outputs": [],
   "source": [
    "import numpy as np"
   ]
  },
  {
   "cell_type": "code",
   "execution_count": 2,
   "id": "a7a7a2b6-cc10-4ae9-8fed-c38720c73f86",
   "metadata": {},
   "outputs": [],
   "source": [
    "def f(x):\n",
    "    return 100 * np.power(x[1] - np.power(x[0], 2), 2) + np.power(1 - x[0], 2)"
   ]
  },
  {
   "cell_type": "code",
   "execution_count": 3,
   "id": "45d97e85-a52c-4e2e-b297-01abcaaed337",
   "metadata": {},
   "outputs": [],
   "source": [
    "def f_grad(x):\n",
    "    x1, x2 = x\n",
    "    grad = np.empty_like(x)\n",
    "    grad[0] = -400 * x1 * x2 + 400 * np.power(x1, 3) - 2 - 2 * x1\n",
    "    grad[1] = 200 * x2 - 200 * np.power(x1, 2)\n",
    "    return grad"
   ]
  },
  {
   "cell_type": "code",
   "execution_count": 4,
   "id": "368dc8c0-7479-4d1f-ab6e-a9ee92abded8",
   "metadata": {},
   "outputs": [],
   "source": [
    "def f_hessian(x):\n",
    "    hessian = np.empty(shape=(2, 2))\n",
    "    x1, x2 = x\n",
    "    hessian[0, 0] = -400 * x2 + 1200 * np.power(x1, 2) + 2\n",
    "    hessian[0, 1] = -400 * x1\n",
    "    hessian[1, 0] = -400 * x1\n",
    "    hessian[1, 1] = 200\n",
    "    return hessian"
   ]
  },
  {
   "cell_type": "code",
   "execution_count": 5,
   "id": "593df8a4-99cd-4194-bba3-3c21229f0f9c",
   "metadata": {},
   "outputs": [
    {
     "name": "stdout",
     "output_type": "stream",
     "text": [
      "f(x) 10.1815656401\n",
      "f grad(x) [ 91.0381628 -63.6098   ]\n",
      "f hessian(x)\n",
      " [[ 570.8588 -297.2   ]\n",
      " [-297.2     200.    ]]\n"
     ]
    }
   ],
   "source": [
    "x = np.array([0.743, 0.234], dtype='float64')\n",
    "print(\"f(x)\", f(x))\n",
    "print(\"f grad(x)\", f_grad(x))\n",
    "print(\"f hessian(x)\\n\", f_hessian(x))"
   ]
  },
  {
   "cell_type": "code",
   "execution_count": 6,
   "id": "a8bd9655-90ba-4274-8bd6-ceed90e464e0",
   "metadata": {},
   "outputs": [],
   "source": [
    "# default epsilon value intended for float64 arrays\n",
    "def approximate_gradient(f, x, eps=np.power(1.1e-16, 1/3)):\n",
    "    grad = np.empty_like(x)\n",
    "\n",
    "    for i in range(x.shape[0]):\n",
    "        ei = np.zeros_like(x)\n",
    "        ei[i] = eps\n",
    "        grad[i] = (f(x + ei) - f(x - ei)) / (2 * eps)\n",
    "\n",
    "    return grad"
   ]
  },
  {
   "cell_type": "code",
   "execution_count": 10,
   "id": "d83840e9-7280-403f-a789-69cf7d81b473",
   "metadata": {},
   "outputs": [],
   "source": [
    "# default epsilon value intended for float64 arrays\n",
    "def approximate_hessian(f, x, eps=np.power(1.1e-16, 1/3)):\n",
    "    print(eps, type(eps))\n",
    "    hessian = np.empty(shape=(x.shape[0], x.shape[0]), dtype=x.dtype)\n",
    "\n",
    "    for i in range(x.shape[0]):\n",
    "        for j in range(x.shape[0]):\n",
    "            ei = np.zeros_like(x)\n",
    "            ei[i] = eps\n",
    "            ej = np.zeros_like(x)\n",
    "            ej[j] = eps\n",
    "            hessian[i, j] = (f(x + ei + ej) - f(x + ei) - f(x + ej) + f(x)) / np.power(eps, 2)\n",
    "\n",
    "    return hessian"
   ]
  },
  {
   "cell_type": "code",
   "execution_count": 11,
   "id": "3b6085b9-7599-419a-9a4f-aede594a959e",
   "metadata": {},
   "outputs": [],
   "source": [
    "f_grad_approx = lambda x : approximate_gradient(f, x)\n",
    "f_hessian_approx = lambda x : approximate_hessian(f, x)"
   ]
  },
  {
   "cell_type": "code",
   "execution_count": 12,
   "id": "62c967cf-b653-4995-9403-b07292161aec",
   "metadata": {},
   "outputs": [
    {
     "name": "stdout",
     "output_type": "stream",
     "text": [
      "f(x) 10.1815656401\n",
      "f grad approximated(x) [ 94.01016281 -63.6098    ]\n",
      "4.791419857062787e-06 <class 'numpy.float64'>\n",
      "f hessian approximated(x)\n",
      " [[ 570.86776546 -297.20090893]\n",
      " [-297.20090893  200.00002265]]\n"
     ]
    }
   ],
   "source": [
    "print(\"f(x)\", f(x))\n",
    "print(\"f grad approximated(x)\", f_grad_approx(x))\n",
    "print(\"f hessian approximated(x)\\n\", f_hessian_approx(x))"
   ]
  },
  {
   "cell_type": "code",
   "execution_count": null,
   "id": "9c10adb6-fda0-4dab-ac77-4317c8a0a5fc",
   "metadata": {},
   "outputs": [],
   "source": []
  }
 ],
 "metadata": {
  "kernelspec": {
   "display_name": "Python 3 (ipykernel)",
   "language": "python",
   "name": "python3"
  },
  "language_info": {
   "codemirror_mode": {
    "name": "ipython",
    "version": 3
   },
   "file_extension": ".py",
   "mimetype": "text/x-python",
   "name": "python",
   "nbconvert_exporter": "python",
   "pygments_lexer": "ipython3",
   "version": "3.9.8"
  }
 },
 "nbformat": 4,
 "nbformat_minor": 5
}
