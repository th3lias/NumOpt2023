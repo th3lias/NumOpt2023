{
 "cells": [
  {
   "cell_type": "code",
   "execution_count": 127,
   "metadata": {},
   "outputs": [],
   "source": [
    "from Functions import Univariates\n",
    "import autograd.numpy as np\n",
    "from autograd import grad, hessian"
   ]
  },
  {
   "cell_type": "code",
   "execution_count": 128,
   "metadata": {},
   "outputs": [],
   "source": [
    "f1 = Univariates().f_1\n",
    "f2 = Univariates().f_2\n",
    "f3 = Univariates().f_3\n",
    "f4 = Univariates().f_4\n",
    "f5 = Univariates().f_5"
   ]
  },
  {
   "cell_type": "code",
   "execution_count": 129,
   "metadata": {},
   "outputs": [],
   "source": [
    "def backtracking(f, x, deriv, p, alpha, c=0.1, rho=0.9):\n",
    "    while f(x+alpha*p) > f(x) + c*alpha*deriv.T.dot(p):\n",
    "        alpha = rho*alpha\n",
    "    return alpha"
   ]
  },
  {
   "cell_type": "code",
   "execution_count": 130,
   "metadata": {},
   "outputs": [],
   "source": [
    "def steepest_descent(f, x0, eps=1e-6):\n",
    "    \"\"\"\n",
    "    Steepest descent algorithm for finding the minimum of a function f.\n",
    "    :param f: function to minimize\n",
    "    :param x0: initial point\n",
    "    :param eps: tolerance\n",
    "    :return: minimum point, minimum value\n",
    "    \"\"\"\n",
    "    x = x0\n",
    "    grad_fn = grad(f)\n",
    "    k = 0\n",
    "    while True:\n",
    "        deriv = grad_fn(x)\n",
    "        if np.linalg.norm(deriv) < eps:\n",
    "            break\n",
    "        alpha = backtracking(f, x, deriv, -deriv, 0.9)\n",
    "        x = x - alpha * deriv\n",
    "        k += 1\n",
    "        if k > 10_000:\n",
    "            print(f\"No convergence after {k} iterations.\")\n",
    "            break\n",
    "    return x, f(x), k, deriv"
   ]
  },
  {
   "cell_type": "code",
   "execution_count": 131,
   "metadata": {},
   "outputs": [],
   "source": [
    "x, f_value, k, deriv = steepest_descent(f1, np.array([0.0]))\n",
    "true_min = np.array([-3.0])"
   ]
  },
  {
   "cell_type": "code",
   "execution_count": 132,
   "metadata": {},
   "outputs": [
    {
     "name": "stdout",
     "output_type": "stream",
     "text": [
      "x:  [-3.00000037]\n",
      "f(x):  [-2.25]\n",
      "f'(x):  [-7.44833965e-07]\n",
      "|x - x*|:  3.724167729757255e-07\n",
      "Needed 37 iterations for convergence with x = [-3.00000037] and f(x) = [-2.25].\n"
     ]
    }
   ],
   "source": [
    "print(\"x: \", x)\n",
    "print(\"f(x): \", f_value)\n",
    "print(\"f'(x): \", grad(f1)(x))\n",
    "print(\"|x - x*|: \", np.linalg.norm(x - true_min))\n",
    "print(f\"Needed {k} iterations for convergence with x = {x} and f(x) = {f_value}.\")"
   ]
  },
  {
   "cell_type": "code",
   "execution_count": 133,
   "metadata": {},
   "outputs": [],
   "source": [
    "x, f_value, k, deriv = steepest_descent(f2, np.array([0.0]))\n",
    "true_min = np.array([-3.0])"
   ]
  },
  {
   "cell_type": "code",
   "execution_count": 134,
   "metadata": {},
   "outputs": [
    {
     "name": "stdout",
     "output_type": "stream",
     "text": [
      "x:  [-3.00000003]\n",
      "f(x):  [-29.25]\n",
      "f'(x):  [-6.44519162e-07]\n",
      "|x - x*|:  3.222595745810963e-08\n",
      "Needed 63 iterations for convergence with x = [-3.00000003] and f(x) = [-29.25].\n"
     ]
    }
   ],
   "source": [
    "print(\"x: \", x)\n",
    "print(\"f(x): \", f_value)\n",
    "print(\"f'(x): \", grad(f2)(x))\n",
    "print(\"|x - x*|: \", np.linalg.norm(x - true_min))\n",
    "print(f\"Needed {k} iterations for convergence with x = {x} and f(x) = {f_value}.\")"
   ]
  },
  {
   "cell_type": "code",
   "execution_count": 135,
   "metadata": {},
   "outputs": [],
   "source": [
    "x, f_value, k, deriv = steepest_descent(f3, np.array([0.0]))\n",
    "true_min = np.array([-0.2])"
   ]
  },
  {
   "cell_type": "code",
   "execution_count": 136,
   "metadata": {},
   "outputs": [
    {
     "name": "stdout",
     "output_type": "stream",
     "text": [
      "x:  [-0.19998705]\n",
      "f(x):  [-0.00043333]\n",
      "f'(x):  [9.7551791e-07]\n",
      "|x - x*|:  1.2954809748305651e-05\n",
      "Needed 201 iterations for convergence with x = [-0.19998705] and f(x) = [-0.00043333].\n"
     ]
    }
   ],
   "source": [
    "print(\"x: \", x)\n",
    "print(\"f(x): \", f_value)\n",
    "print(\"f'(x): \", grad(f3)(x))\n",
    "print(\"|x - x*|: \", np.linalg.norm(x - true_min))\n",
    "print(f\"Needed {k} iterations for convergence with x = {x} and f(x) = {f_value}.\")"
   ]
  },
  {
   "cell_type": "code",
   "execution_count": 137,
   "metadata": {},
   "outputs": [],
   "source": [
    "x, f_value, k, deriv = steepest_descent(f4, np.array([0]))\n",
    "true_min = np.array([5.0651])"
   ]
  },
  {
   "cell_type": "code",
   "execution_count": 138,
   "metadata": {},
   "outputs": [
    {
     "name": "stdout",
     "output_type": "stream",
     "text": [
      "x:  [5.0651034]\n",
      "f(x):  [-82.98228041]\n",
      "f'(x):  [8.83214845e-07]\n",
      "|x - x*|:  3.3989164158754193e-06\n",
      "Needed 46 iterations for convergence with x = [5.0651034] and f(x) = [-82.98228041].\n"
     ]
    }
   ],
   "source": [
    "print(\"x: \", x)\n",
    "print(\"f(x): \", f_value)\n",
    "print(\"f'(x): \", grad(f4)(x))\n",
    "print(\"|x - x*|: \", np.linalg.norm(x - true_min))\n",
    "print(f\"Needed {k} iterations for convergence with x = {x} and f(x) = {f_value}.\")"
   ]
  },
  {
   "cell_type": "code",
   "execution_count": 139,
   "metadata": {},
   "outputs": [],
   "source": [
    "x, f_value, k, deriv = steepest_descent(f5, np.array([0]))\n",
    "true_min = np.array([0.5])"
   ]
  },
  {
   "cell_type": "code",
   "execution_count": 140,
   "metadata": {},
   "outputs": [
    {
     "name": "stdout",
     "output_type": "stream",
     "text": [
      "x:  [0.50000046]\n",
      "f(x):  [2.149647e-13]\n",
      "f'(x):  [9.27285286e-07]\n",
      "|x - x*|:  4.6364296557577234e-07\n",
      "Needed 27 iterations for convergence with x = [0.50000046] and f(x) = [2.149647e-13].\n"
     ]
    }
   ],
   "source": [
    "print(\"x: \", x)\n",
    "print(\"f(x): \", f_value)\n",
    "print(\"f'(x): \", grad(f5)(x))\n",
    "print(\"|x - x*|: \", np.linalg.norm(x - true_min))\n",
    "print(f\"Needed {k} iterations for convergence with x = {x} and f(x) = {f_value}.\")"
   ]
  },
  {
   "cell_type": "code",
   "execution_count": 141,
   "metadata": {},
   "outputs": [],
   "source": [
    "def newton_method(f, x0, eps=1e-6):\n",
    "    \"\"\"\n",
    "    Newton's method for finding the minimum of a function f.\n",
    "    :param f: function to minimize\n",
    "    :param x0: initial point\n",
    "    :param eps: tolerance\n",
    "    :return: minimum point, minimum value\n",
    "    \"\"\"\n",
    "    x = x0\n",
    "    grad_fn = grad(f)\n",
    "    hess_fn = hessian(f)\n",
    "    k = 0\n",
    "    while True:\n",
    "        deriv = grad_fn(x)\n",
    "        hess = hess_fn(x).reshape((1,))\n",
    "        if np.linalg.norm(deriv) < eps:\n",
    "            break\n",
    "        p = - (1/hess) @ deriv\n",
    "        x = x + p\n",
    "        k += 1\n",
    "        if k > 10_000:\n",
    "            print(f\"No convergence after {k} iterations.\")\n",
    "            break\n",
    "    return x, f(x), k, deriv\n"
   ]
  },
  {
   "cell_type": "code",
   "execution_count": 142,
   "metadata": {},
   "outputs": [],
   "source": [
    "x, f_value, k, deriv = newton_method(f1, np.array([0.0]))\n",
    "true_min = np.array([-1.0])"
   ]
  },
  {
   "cell_type": "code",
   "execution_count": 143,
   "metadata": {},
   "outputs": [
    {
     "name": "stdout",
     "output_type": "stream",
     "text": [
      "x:  [-1.]\n",
      "f(x):  [-2.25]\n",
      "f'(x):  [4.57855975e-12]\n",
      "|x - x*|:  2.2893908990795353e-12\n",
      "Needed 6 iterations for convergence with x = [-1.] and f(x) = [-2.25].\n"
     ]
    }
   ],
   "source": [
    "print(\"x: \", x)\n",
    "print(\"f(x): \", f_value)\n",
    "print(\"f'(x): \", grad(f1)(x))\n",
    "print(\"|x - x*|: \", np.linalg.norm(x - true_min))\n",
    "print(f\"Needed {k} iterations for convergence with x = {x} and f(x) = {f_value}.\")"
   ]
  },
  {
   "cell_type": "code",
   "execution_count": 144,
   "metadata": {},
   "outputs": [],
   "source": [
    "x, f_value, k, deriv = newton_method(f2, np.array([0.0]))\n",
    "true_min = np.array([1.0])"
   ]
  },
  {
   "cell_type": "code",
   "execution_count": 145,
   "metadata": {},
   "outputs": [
    {
     "name": "stdout",
     "output_type": "stream",
     "text": [
      "x:  [0.99999999]\n",
      "f(x):  [2.75]\n",
      "f'(x):  [2.85729085e-08]\n",
      "|x - x*|:  7.14322689887581e-09\n",
      "Needed 4 iterations for convergence with x = [0.99999999] and f(x) = [2.75].\n"
     ]
    }
   ],
   "source": [
    "print(\"x: \", x)\n",
    "print(\"f(x): \", f_value)\n",
    "print(\"f'(x): \", grad(f2)(x))\n",
    "print(\"|x - x*|: \", np.linalg.norm(x - true_min))\n",
    "print(f\"Needed {k} iterations for convergence with x = {x} and f(x) = {f_value}.\")"
   ]
  },
  {
   "cell_type": "code",
   "execution_count": 156,
   "metadata": {},
   "outputs": [],
   "source": [
    "x, f_value, k, deriv = newton_method(f3, np.array([0.0]))\n",
    "true_min = np.array([0.05])"
   ]
  },
  {
   "cell_type": "code",
   "execution_count": 157,
   "metadata": {},
   "outputs": [
    {
     "name": "stdout",
     "output_type": "stream",
     "text": [
      "x:  [0.04998115]\n",
      "f(x):  [2.23958353e-05]\n",
      "f'(x):  [2.35927807e-07]\n",
      "|x - x*|:  1.884855586241352e-05\n",
      "Needed 3 iterations for convergence with x = [0.04998115] and f(x) = [2.23958353e-05].\n"
     ]
    }
   ],
   "source": [
    "print(\"x: \", x)\n",
    "print(\"f(x): \", f_value)\n",
    "print(\"f'(x): \", grad(f3)(x))\n",
    "print(\"|x - x*|: \", np.linalg.norm(x - true_min))\n",
    "print(f\"Needed {k} iterations for convergence with x = {x} and f(x) = {f_value}.\")"
   ]
  },
  {
   "cell_type": "code",
   "execution_count": 148,
   "metadata": {},
   "outputs": [],
   "source": [
    "x, f_value, k, deriv = newton_method(f4, np.array([0]))\n",
    "true_min = np.array([5.0651])"
   ]
  },
  {
   "cell_type": "code",
   "execution_count": 149,
   "metadata": {},
   "outputs": [
    {
     "name": "stdout",
     "output_type": "stream",
     "text": [
      "x:  [5.06510337]\n",
      "f(x):  [-82.98228041]\n",
      "f'(x):  [1.42108547e-14]\n",
      "|x - x*|:  3.3708287991984776e-06\n",
      "Needed 15 iterations for convergence with x = [5.06510337] and f(x) = [-82.98228041].\n"
     ]
    }
   ],
   "source": [
    "print(\"x: \", x)\n",
    "print(\"f(x): \", f_value)\n",
    "print(\"f'(x): \", grad(f4)(x))\n",
    "print(\"|x - x*|: \", np.linalg.norm(x - true_min))\n",
    "print(f\"Needed {k} iterations for convergence with x = {x} and f(x) = {f_value}.\")"
   ]
  },
  {
   "cell_type": "code",
   "execution_count": 150,
   "metadata": {},
   "outputs": [],
   "source": [
    "x, f_value, k, deriv = newton_method(f5, np.array([0]))\n",
    "true_min = np.array([0.5])"
   ]
  },
  {
   "cell_type": "code",
   "execution_count": 151,
   "metadata": {},
   "outputs": [
    {
     "name": "stdout",
     "output_type": "stream",
     "text": [
      "x:  [0.49999966]\n",
      "f(x):  [1.15737301e-13]\n",
      "f'(x):  [-6.80403939e-07]\n",
      "|x - x*|:  3.4020179590088517e-07\n",
      "Needed 5 iterations for convergence with x = [0.49999966] and f(x) = [1.15737301e-13].\n"
     ]
    }
   ],
   "source": [
    "print(\"x: \", x)\n",
    "print(\"f(x): \", f_value)\n",
    "print(\"f'(x): \", grad(f5)(x))\n",
    "print(\"|x - x*|: \", np.linalg.norm(x - true_min))\n",
    "print(f\"Needed {k} iterations for convergence with x = {x} and f(x) = {f_value}.\")"
   ]
  },
  {
   "cell_type": "code",
   "execution_count": null,
   "metadata": {},
   "outputs": [],
   "source": []
  }
 ],
 "metadata": {
  "kernelspec": {
   "display_name": "Python 3",
   "language": "python",
   "name": "python3"
  },
  "language_info": {
   "codemirror_mode": {
    "name": "ipython",
    "version": 3
   },
   "file_extension": ".py",
   "mimetype": "text/x-python",
   "name": "python",
   "nbconvert_exporter": "python",
   "pygments_lexer": "ipython3",
   "version": "3.11.3"
  },
  "orig_nbformat": 4
 },
 "nbformat": 4,
 "nbformat_minor": 2
}
