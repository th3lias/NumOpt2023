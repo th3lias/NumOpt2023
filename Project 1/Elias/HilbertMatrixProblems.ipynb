{
 "cells": [
  {
   "cell_type": "code",
   "execution_count": 66,
   "metadata": {},
   "outputs": [],
   "source": [
    "import autograd.numpy as np\n",
    "from autograd import grad, hessian\n",
    "from Functions import MultivariateWithHilberMatrix as H"
   ]
  },
  {
   "cell_type": "code",
   "execution_count": 67,
   "metadata": {},
   "outputs": [],
   "source": [
    "m1 = H(5)\n",
    "m2 = H(8)\n",
    "m3 = H(12)\n",
    "m4 = H(20)\n",
    "m5 = H(30)"
   ]
  },
  {
   "cell_type": "code",
   "execution_count": 68,
   "metadata": {},
   "outputs": [
    {
     "name": "stdout",
     "output_type": "stream",
     "text": [
      "Minimum point: [    5.          -120.           630.         -1120.00000001\n",
      "   630.        ]\n",
      "Minimum value: -12.500000000012449\n",
      "Minimum point: [-8.00000052e+00  5.04000025e+02 -7.56000030e+03  4.62000015e+04\n",
      " -1.38600004e+05  2.16216005e+05 -1.68168004e+05  5.14800010e+04]\n",
      "Minimum value: -32.00000002647357\n",
      "Minimum point: [-1.28758021e+01  1.82700490e+03 -6.35497518e+04  9.48423728e+05\n",
      " -7.55539458e+06  3.58352883e+07 -1.07176657e+08  2.07239527e+08\n",
      " -2.58446725e+08  2.00601048e+08 -8.81030636e+07  1.67194346e+07]\n",
      "Minimum value: -71.60591892525554\n",
      "Minimum point: [-3.06198188e+01  5.79631108e+03 -2.67656855e+05  5.30590627e+06\n",
      " -5.62934738e+07  3.56180768e+08 -1.41454296e+09  3.54689896e+09\n",
      " -5.26881741e+09  3.31570124e+09  2.23492076e+09 -4.62144407e+09\n",
      " -4.79904240e+08  5.96741325e+09 -4.19120773e+09 -4.68358103e+08\n",
      "  1.17802999e+09  4.13333400e+08 -7.15516924e+08  1.98562765e+08]\n",
      "Minimum value: -251.95960253477097\n",
      "Minimum point: [-7.09110073e+01  1.21386137e+04 -5.09455681e+05  9.11337230e+06\n",
      " -8.56771813e+07  4.65726408e+08 -1.51330544e+09  2.87011360e+09\n",
      " -2.81033085e+09  8.97538752e+08 -2.12632140e+08  1.35664526e+09\n",
      " -9.14466496e+08  1.59701836e+09 -4.54610631e+09  6.56972375e+08\n",
      "  5.34940917e+09 -2.00704004e+09 -8.27746637e+08 -4.32648733e+08\n",
      " -2.21193601e+09  3.86720013e+09 -3.96275416e+09  3.55276469e+09\n",
      "  2.59846246e+08 -8.78551536e+08  5.97786826e+08 -4.68162177e+09\n",
      "  5.22987290e+09 -1.62469308e+09]\n",
      "Minimum value: -208.400164604187\n"
     ]
    }
   ],
   "source": [
    "x_5 = np.linalg.solve(m1.Q, m1.b)\n",
    "x_8 = np.linalg.solve(m2.Q, m2.b)\n",
    "x_12 = np.linalg.solve(m3.Q, m3.b)\n",
    "x_20 = np.linalg.solve(m4.Q, m4.b)\n",
    "x_30 = np.linalg.solve(m5.Q, m5.b)\n",
    "print(f\"Minimum point: {x_5}\")\n",
    "print(f\"Minimum value: {m1.f(x_5)}\")\n",
    "print(f\"Minimum point: {x_8}\")\n",
    "print(f\"Minimum value: {m2.f(x_8)}\")\n",
    "print(f\"Minimum point: {x_12}\")\n",
    "print(f\"Minimum value: {m3.f(x_12)}\")\n",
    "print(f\"Minimum point: {x_20}\")\n",
    "print(f\"Minimum value: {m4.f(x_20)}\")\n",
    "print(f\"Minimum point: {x_30}\")\n",
    "print(f\"Minimum value: {m5.f(x_30)}\")"
   ]
  },
  {
   "cell_type": "code",
   "execution_count": 69,
   "metadata": {},
   "outputs": [],
   "source": [
    "def backtracking(f, x, deriv, p, alpha, c=0.1, rho=0.9):\n",
    "    while f(x+alpha*p) > f(x) + c*alpha*deriv.T.dot(p):\n",
    "        alpha = rho*alpha\n",
    "    return alpha"
   ]
  },
  {
   "cell_type": "code",
   "execution_count": 70,
   "metadata": {},
   "outputs": [],
   "source": [
    "def steepest_descent(f, x0, eps=1e-6):\n",
    "    \"\"\"\n",
    "    Steepest descent algorithm for finding the minimum of a function f.\n",
    "    :param f: function to minimize\n",
    "    :param x0: initial point\n",
    "    :param eps: tolerance\n",
    "    :return: minimum point, minimum value\n",
    "    \"\"\"\n",
    "    x = x0\n",
    "    grad_fn = grad(f)\n",
    "    k = 0\n",
    "    while True:\n",
    "        deriv = grad_fn(x)\n",
    "        if np.linalg.norm(deriv) < eps:\n",
    "            break\n",
    "        alpha = backtracking(f, x, deriv, -deriv, 0.9)\n",
    "        x = x - alpha * deriv\n",
    "        k += 1\n",
    "        if k > 10_000:\n",
    "            print(f\"No convergence after {k} iterations.\")\n",
    "            break\n",
    "    return x, f(x), k, deriv"
   ]
  },
  {
   "cell_type": "code",
   "execution_count": 71,
   "metadata": {},
   "outputs": [
    {
     "name": "stdout",
     "output_type": "stream",
     "text": [
      "No convergence after 10001 iterations.\n",
      "Minimum point: [ -3.14683176  38.06528787 -66.37965953 -53.42664209 102.98750855]\n",
      "Minimum value: -9.322872214435762\n",
      "Number of iterations: 10001\n",
      "Gradient norm: 0.0053125699074282814\n",
      "|x - x*|: 1387.5577574598126\n"
     ]
    }
   ],
   "source": [
    "x = np.zeros(5)\n",
    "x, f, k, deriv = steepest_descent(m1.f, x)\n",
    "print(f\"Minimum point: {x}\")\n",
    "print(f\"Minimum value: {f}\")\n",
    "print(f\"Number of iterations: {k}\")\n",
    "print(f\"Gradient norm: {np.linalg.norm(deriv)}\")\n",
    "print(f\"|x - x*|: {np.linalg.norm(x - x_5)}\")"
   ]
  },
  {
   "cell_type": "code",
   "execution_count": 72,
   "metadata": {},
   "outputs": [
    {
     "name": "stdout",
     "output_type": "stream",
     "text": [
      "No convergence after 10001 iterations.\n",
      "Minimum point: [ -0.55418231  -7.62134193  55.48447571 -21.24966065 -74.82961602\n",
      " -63.58498972   9.62409659 130.96585677]\n",
      "Minimum value: -15.198271185530224\n",
      "Number of iterations: 10001\n",
      "Derivative at minimum point: [-0.00026167  0.00324981 -0.00691741 -0.00137136  0.00492476  0.00624896\n",
      "  0.00171672 -0.00789043]\n",
      "Gradient norm: 0.013742988894838935\n",
      "|x - x*|: 314771.6383391254\n"
     ]
    }
   ],
   "source": [
    "x = np.zeros(8)\n",
    "x, f, k, deriv = steepest_descent(m2.f, x)\n",
    "print(f\"Minimum point: {x}\")\n",
    "print(f\"Minimum value: {f}\")\n",
    "print(f\"Number of iterations: {k}\")\n",
    "print(f\"Derivative at minimum point: {deriv}\")\n",
    "print(f\"Gradient norm: {np.linalg.norm(deriv)}\")\n",
    "print(f\"|x - x*|: {np.linalg.norm(x - x_8)}\")"
   ]
  },
  {
   "cell_type": "code",
   "execution_count": 73,
   "metadata": {},
   "outputs": [
    {
     "name": "stdout",
     "output_type": "stream",
     "text": [
      "No convergence after 10001 iterations.\n",
      "Minimum point: [  2.5933654  -31.00890248  45.25281963  48.80972769   5.22253049\n",
      " -43.13815343 -73.29768039 -76.73485466 -52.56710602  -3.35104827\n",
      "  67.11956223 154.87801208]\n",
      "Minimum value: -23.025495498436996\n",
      "Number of iterations: 10001\n",
      "Derivative at minimum point: [-0.00013591  0.00069491  0.0015584  -0.00337031 -0.00357457 -0.00068075\n",
      "  0.00264677  0.00472746  0.00478476  0.00260491 -0.00172433 -0.00797431]\n",
      "Gradient norm: 0.012374435827095851\n",
      "|x - x*|: 413345366.7651695\n"
     ]
    }
   ],
   "source": [
    "x = np.zeros(12)\n",
    "x, f, k, deriv = steepest_descent(m3.f, x)\n",
    "print(f\"Minimum point: {x}\")\n",
    "print(f\"Minimum value: {f}\")\n",
    "print(f\"Number of iterations: {k}\")\n",
    "print(f\"Derivative at minimum point: {deriv}\")\n",
    "print(f\"Gradient norm: {np.linalg.norm(deriv)}\")\n",
    "print(f\"|x - x*|: {np.linalg.norm(x - x_12)}\")"
   ]
  },
  {
   "cell_type": "code",
   "execution_count": 74,
   "metadata": {},
   "outputs": [
    {
     "name": "stdout",
     "output_type": "stream",
     "text": [
      "No convergence after 10001 iterations.\n",
      "Minimum point: [  0.34164445   7.40883021 -43.17275342   5.60114118  44.43478707\n",
      "  52.7282235   37.61543434  10.43717864 -19.53827364 -46.03259422\n",
      " -65.26702153 -75.26035189 -75.23344889 -65.17089992 -45.51777078\n",
      " -16.9770392   19.62231056  63.40909041 113.52155528 169.13783669]\n",
      "Minimum value: -38.49535059719917\n",
      "Number of iterations: 10001\n",
      "Derivative at minimum point: [ 0.00031792 -0.00364114  0.00624221  0.00337333 -0.00165237 -0.00475037\n",
      " -0.00539585 -0.00421817 -0.0020358   0.00045623  0.00275174  0.00451643\n",
      "  0.00555029  0.0057507   0.00508243  0.00355492  0.00120602 -0.00190957\n",
      " -0.00572821 -0.01018262]\n",
      "Gradient norm: 0.020302086424873786\n",
      "|x - x*|: 11642779517.403357\n"
     ]
    }
   ],
   "source": [
    "x = np.zeros(20)\n",
    "x, f, k, deriv = steepest_descent(m4.f, x)\n",
    "print(f\"Minimum point: {x}\")\n",
    "print(f\"Minimum value: {f}\")\n",
    "print(f\"Number of iterations: {k}\")\n",
    "print(f\"Derivative at minimum point: {deriv}\")\n",
    "print(f\"Gradient norm: {np.linalg.norm(deriv)}\")\n",
    "print(f\"|x - x*|: {np.linalg.norm(x - x_20)}\")"
   ]
  },
  {
   "cell_type": "code",
   "execution_count": 75,
   "metadata": {},
   "outputs": [
    {
     "name": "stdout",
     "output_type": "stream",
     "text": [
      "No convergence after 10001 iterations.\n",
      "Minimum point: [ -2.20389634  25.67518236 -35.85849778 -38.13463917  -8.55142605\n",
      "  23.5850279   45.36074649  53.87009535  50.68518866  38.89037251\n",
      "  21.71648888   1.99422267 -18.00669927 -36.56998464 -52.46107592\n",
      " -64.83900333 -73.17219204 -77.16571218 -76.70158857 -71.79130984\n",
      " -62.53880191 -49.11198182 -31.72116245 -10.60283482  13.992377\n",
      "  41.80855036  72.59084451 106.09001618 142.06552586 180.2875853 ]\n",
      "Minimum value: -57.80014443455357\n",
      "Number of iterations: 10001\n",
      "Derivative at minimum point: [ 0.00014901 -0.00065433 -0.00194981  0.00280233  0.00395046  0.0023092\n",
      " -0.00023319 -0.00249271 -0.00395955 -0.00453268 -0.00431574 -0.00349476\n",
      " -0.00227259 -0.00083735  0.0006506   0.00206185  0.00329642  0.00428029\n",
      "  0.00496122  0.0053048   0.00529079  0.00491005  0.00416195  0.00305229\n",
      "  0.00159156 -0.00020637 -0.00232532 -0.00474766 -0.0074549  -0.01042821]\n",
      "Gradient norm: 0.021735721345820185\n",
      "|x - x*|: 13439580048.595173\n"
     ]
    }
   ],
   "source": [
    "x = np.zeros(30)\n",
    "x, f, k, deriv = steepest_descent(m5.f, x)\n",
    "print(f\"Minimum point: {x}\")\n",
    "print(f\"Minimum value: {f}\")\n",
    "print(f\"Number of iterations: {k}\")\n",
    "print(f\"Derivative at minimum point: {deriv}\")\n",
    "print(f\"Gradient norm: {np.linalg.norm(deriv)}\")\n",
    "print(f\"|x - x*|: {np.linalg.norm(x - x_30)}\")"
   ]
  },
  {
   "attachments": {},
   "cell_type": "markdown",
   "metadata": {},
   "source": [
    "As expected, this procedure with hilbert matrices does not converge. This is the case due to the exploding condition numbers of hilbert matrices."
   ]
  },
  {
   "cell_type": "code",
   "execution_count": 76,
   "metadata": {},
   "outputs": [],
   "source": [
    "def newton_method(f, x0, eps=1e-6):\n",
    "    \"\"\"\n",
    "    Newton's method for finding the minimum of a function f.\n",
    "    :param f: function to minimize\n",
    "    :param x0: initial point\n",
    "    :param eps: tolerance\n",
    "    :return: minimum point, minimum value\n",
    "    \"\"\"\n",
    "    x = x0\n",
    "    grad_fn = grad(f)\n",
    "    hess_fn = hessian(f)\n",
    "    k = 0\n",
    "    while True:\n",
    "        deriv = grad_fn(x)\n",
    "        hess = hess_fn(x)\n",
    "        if np.linalg.norm(deriv) < eps:\n",
    "            break\n",
    "        p = np.linalg.solve(hess, -deriv)\n",
    "        alpha = backtracking(f, x, deriv, p, 0.9)\n",
    "        x = x + alpha * p\n",
    "        k += 1\n",
    "        if k > 10_000:\n",
    "            print(f\"No convergence after {k} iterations.\")\n",
    "            break\n",
    "    return x, f(x), k, deriv"
   ]
  },
  {
   "cell_type": "code",
   "execution_count": 77,
   "metadata": {},
   "outputs": [
    {
     "name": "stdout",
     "output_type": "stream",
     "text": [
      "Minimum point: [    4.9999995  -119.999988    629.999937  -1119.999888    629.999937 ]\n",
      "Minimum value: -12.499999999989996\n",
      "Number of iterations: 7\n",
      "Derivative at minimum point: [-1.00000006e-07 -1.00000021e-07 -1.00000012e-07 -1.00000008e-07\n",
      " -9.99999976e-08]\n",
      "Gradient norm: 2.2360681764150815e-07\n",
      "|x - x*|: 0.0001436307754825937\n"
     ]
    }
   ],
   "source": [
    "x = np.zeros(5)\n",
    "x, f, k, deriv = newton_method(m1.f, x)\n",
    "print(f\"Minimum point: {x}\")\n",
    "print(f\"Minimum value: {f}\")\n",
    "print(f\"Number of iterations: {k}\")\n",
    "print(f\"Derivative at minimum point: {deriv}\")\n",
    "print(f\"Gradient norm: {np.linalg.norm(deriv)}\")\n",
    "print(f\"|x - x*|: {np.linalg.norm(x - x_5)}\")"
   ]
  },
  {
   "cell_type": "code",
   "execution_count": 78,
   "metadata": {},
   "outputs": [
    {
     "name": "stdout",
     "output_type": "stream",
     "text": [
      "No convergence after 10001 iterations.\n",
      "Minimum point: [-7.99998407e+00  5.03998989e+02 -7.55998477e+03  4.61999066e+04\n",
      " -1.38599719e+05  2.16215561e+05 -1.68167658e+05  5.14798951e+04]\n",
      "Minimum value: -32.00000088516754\n",
      "Number of iterations: 10001\n",
      "Derivative at minimum point: [-2.06104778e-06 -2.06104596e-06 -2.06104869e-06 -2.06105369e-06\n",
      " -2.06105506e-06 -2.06105733e-06 -2.06105278e-06 -2.06105983e-06]\n",
      "Gradient norm: 5.829537194093101e-06\n",
      "|x - x*|: 0.6469068776838137\n"
     ]
    }
   ],
   "source": [
    "x = np.zeros(8)\n",
    "x, f, k, deriv = newton_method(m2.f, x)\n",
    "print(f\"Minimum point: {x}\")\n",
    "print(f\"Minimum value: {f}\")\n",
    "print(f\"Number of iterations: {k}\")\n",
    "print(f\"Derivative at minimum point: {deriv}\")\n",
    "print(f\"Gradient norm: {np.linalg.norm(deriv)}\")\n",
    "print(f\"|x - x*|: {np.linalg.norm(x - x_8)}\")"
   ]
  },
  {
   "cell_type": "code",
   "execution_count": 79,
   "metadata": {},
   "outputs": [
    {
     "name": "stdout",
     "output_type": "stream",
     "text": [
      "No convergence after 10001 iterations.\n",
      "Minimum point: [-1.17911561e+01  1.69132772e+03 -5.93281837e+04  8.91412332e+05\n",
      " -7.14056354e+06  3.40242271e+07 -1.02158428e+08  1.98199784e+08\n",
      " -2.47894016e+08  1.92901832e+08 -8.49128612e+07  1.61464060e+07]\n",
      "Minimum value: -73.0290924878791\n",
      "Number of iterations: 10001\n",
      "Derivative at minimum point: [-2.67680734e-05 -2.67680734e-05 -2.67680734e-05 -2.67634168e-05\n",
      " -2.67652795e-05 -2.67624855e-05 -2.67596915e-05 -2.67624855e-05\n",
      " -2.67578289e-05 -2.67615542e-05 -2.67592259e-05 -2.67620198e-05]\n",
      "Gradient norm: 9.271038964965542e-05\n",
      "|x - x*|: 17073318.96466309\n"
     ]
    }
   ],
   "source": [
    "x = np.zeros(12)\n",
    "x, f, k, deriv = newton_method(m3.f, x)\n",
    "print(f\"Minimum point: {x}\")\n",
    "print(f\"Minimum value: {f}\")\n",
    "print(f\"Number of iterations: {k}\")\n",
    "print(f\"Derivative at minimum point: {deriv}\")\n",
    "print(f\"Gradient norm: {np.linalg.norm(deriv)}\")\n",
    "print(f\"|x - x*|: {np.linalg.norm(x - x_12)}\")"
   ]
  },
  {
   "cell_type": "code",
   "execution_count": 80,
   "metadata": {},
   "outputs": [
    {
     "name": "stderr",
     "output_type": "stream",
     "text": [
      "c:\\Users\\emind\\OneDrive - Johannes Kepler Universität Linz\\Numerical Optimization\\Project 1 v3\\Functions.py:36: RuntimeWarning: overflow encountered in matmul\n",
      "  return 1/2 * x.T @ self.Q @ x - self.b.T @ x\n",
      "c:\\Users\\emind\\AppData\\Local\\Programs\\Python\\Python311\\Lib\\site-packages\\autograd\\tracer.py:48: RuntimeWarning: overflow encountered in matmul\n",
      "  return f_raw(*args, **kwargs)\n",
      "c:\\Users\\emind\\OneDrive - Johannes Kepler Universität Linz\\Numerical Optimization\\Project 1 v3\\Functions.py:36: RuntimeWarning: invalid value encountered in matmul\n",
      "  return 1/2 * x.T @ self.Q @ x - self.b.T @ x\n",
      "c:\\Users\\emind\\AppData\\Local\\Programs\\Python\\Python311\\Lib\\site-packages\\autograd\\tracer.py:48: RuntimeWarning: invalid value encountered in matmul\n",
      "  return f_raw(*args, **kwargs)\n"
     ]
    },
    {
     "name": "stdout",
     "output_type": "stream",
     "text": [
      "No convergence after 10001 iterations.\n",
      "Minimum point: [nan nan nan nan nan nan nan nan nan nan nan nan nan nan nan nan nan nan\n",
      " nan nan]\n",
      "Minimum value: nan\n",
      "Number of iterations: 10001\n",
      "Derivative at minimum point: [nan nan nan nan nan nan nan nan nan nan nan nan nan nan nan nan nan nan\n",
      " nan nan]\n",
      "Gradient norm: nan\n",
      "|x - x*|: nan\n"
     ]
    }
   ],
   "source": [
    "x = np.zeros(20)\n",
    "x, f, k, deriv = newton_method(m4.f, x)\n",
    "print(f\"Minimum point: {x}\")\n",
    "print(f\"Minimum value: {f}\")\n",
    "print(f\"Number of iterations: {k}\")\n",
    "print(f\"Derivative at minimum point: {deriv}\")\n",
    "print(f\"Gradient norm: {np.linalg.norm(deriv)}\")\n",
    "print(f\"|x - x*|: {np.linalg.norm(x - x_20)}\")"
   ]
  },
  {
   "cell_type": "code",
   "execution_count": 81,
   "metadata": {},
   "outputs": [
    {
     "name": "stdout",
     "output_type": "stream",
     "text": [
      "No convergence after 10001 iterations.\n",
      "Minimum point: [ 1.89946431e+08 -3.30657039e+10  1.41098057e+12 -2.56684638e+13\n",
      "  2.45632624e+14 -1.36213558e+15  4.53985956e+15 -8.96693948e+15\n",
      "  9.67826153e+15 -4.91967274e+15  2.98626901e+15 -5.30986839e+15\n",
      "  2.84901251e+15 -6.11251039e+15  1.69328681e+16 -2.23853635e+15\n",
      " -1.98904859e+16  7.00764512e+15  3.61104187e+15  2.58789870e+15\n",
      "  7.42125823e+15 -1.50295169e+16  1.43070801e+16 -1.28081384e+16\n",
      "  5.90741282e+14  1.00013044e+15 -5.12393881e+14  1.76100826e+16\n",
      " -2.08706193e+16  6.67732632e+15]\n",
      "Minimum value: -5131395374839417.0\n",
      "Number of iterations: 10001\n",
      "Derivative at minimum point: [-0.25      0.0625    0.125    -0.21875   0.       -0.21875  -0.09375\n",
      " -0.0625   -0.28125  -0.34375  -0.15625  -0.03125   0.        0.1875\n",
      "  0.        0.       -0.15625   0.0625   -0.0625   -0.03125  -0.125\n",
      " -0.03125   0.015625 -0.15625   0.015625 -0.09375  -0.125    -0.078125\n",
      " -0.09375  -0.09375 ]\n",
      "Gradient norm: 0.7556751430839842\n",
      "|x - x*|: 5.001205075208236e+16\n"
     ]
    }
   ],
   "source": [
    "x = np.zeros(30)\n",
    "x, f, k, deriv = newton_method(m5.f, x)\n",
    "print(f\"Minimum point: {x}\")\n",
    "print(f\"Minimum value: {f}\")\n",
    "print(f\"Number of iterations: {k}\")\n",
    "print(f\"Derivative at minimum point: {deriv}\")\n",
    "print(f\"Gradient norm: {np.linalg.norm(deriv)}\")\n",
    "print(f\"|x - x*|: {np.linalg.norm(x - x_30)}\")"
   ]
  },
  {
   "attachments": {},
   "cell_type": "markdown",
   "metadata": {},
   "source": [
    "Newton's method manages to produce a solution for n = 5, but not for higher order hilber matrices. In the following we will get the condition numbers and other metrics of these matrices."
   ]
  },
  {
   "cell_type": "code",
   "execution_count": 82,
   "metadata": {},
   "outputs": [
    {
     "name": "stdout",
     "output_type": "stream",
     "text": [
      "Condition number: 476607.2502422687\n",
      "Condition number: 15257575538.072489\n",
      "Condition number: 1.760619121841585e+16\n",
      "Condition number: 1.3193976166344822e+18\n",
      "Condition number: 3.8719824664564173e+18\n",
      "Ordered eigenvalues: [3.28792877e-06 3.05898040e-04 1.14074916e-02 2.08534219e-01\n",
      " 1.56705069e+00]\n",
      "Ordered eigenvalues: [1.11153896e-10 1.79887375e-08 1.29433209e-06 5.43694337e-05\n",
      " 1.46768812e-03 2.62128436e-02 2.98125211e-01 1.69593900e+00]\n",
      "Ordered eigenvalues: [1.09723367e-16 2.64916347e-14 3.11135031e-12 2.25196455e-10\n",
      " 1.12286107e-08 4.08237611e-07 1.11633575e-05 2.33089089e-04\n",
      " 3.72231224e-03 4.47385488e-02 3.80275246e-01 1.79537206e+00]\n",
      "Ordered eigenvalues: [-8.99026199e-18 -5.32469246e-18 -2.22817347e-18  2.03544571e-18\n",
      "  8.42428748e-18  1.35779278e-17  3.71969535e-16  1.73806120e-14\n",
      "  6.74081634e-13  2.19288997e-11  6.03609533e-10  1.41395476e-08\n",
      "  2.82765206e-07  4.83051005e-06  7.03343147e-05  8.67671109e-04\n",
      "  8.96112861e-03  7.55958213e-02  4.87038407e-01  1.90713472e+00]\n",
      "Ordered eigenvalues: [-1.02620167e-17+0.00000000e+00j -6.66388076e-18-6.17107066e-19j\n",
      " -6.66388076e-18+6.17107066e-19j -5.61610706e-18+0.00000000e+00j\n",
      " -3.08467517e-18-2.98072711e-18j -3.08467517e-18+2.98072711e-18j\n",
      " -1.79083977e-18+0.00000000e+00j  1.44481413e-18-1.48483935e-18j\n",
      "  1.44481413e-18+1.48483935e-18j  2.18298755e-18+0.00000000e+00j\n",
      "  4.79560377e-18+0.00000000e+00j  7.28078195e-18-2.41674765e-19j\n",
      "  7.28078195e-18+2.41674765e-19j  1.07146118e-17+0.00000000e+00j\n",
      "  1.01722350e-16+0.00000000e+00j  2.71308313e-15+0.00000000e+00j\n",
      "  6.71440537e-14+0.00000000e+00j  1.49579869e-12+0.00000000e+00j\n",
      "  3.00081946e-11+0.00000000e+00j  5.42358066e-10+0.00000000e+00j\n",
      "  8.82800065e-09+0.00000000e+00j  1.29256307e-07+0.00000000e+00j\n",
      "  1.69863217e-06+0.00000000e+00j  1.99657536e-05+0.00000000e+00j\n",
      "  2.08785073e-04+0.00000000e+00j  1.92662077e-03+0.00000000e+00j\n",
      "  1.54814913e-02+0.00000000e+00j  1.05645646e-01+0.00000000e+00j\n",
      "  5.72599933e-01+0.00000000e+00j  1.98649257e+00+0.00000000e+00j]\n"
     ]
    }
   ],
   "source": [
    "cond1 = np.linalg.cond(m1.Q)\n",
    "cond2 = np.linalg.cond(m2.Q)\n",
    "cond3 = np.linalg.cond(m3.Q)\n",
    "cond4 = np.linalg.cond(m4.Q)\n",
    "cond5 = np.linalg.cond(m5.Q)\n",
    "\n",
    "ordered_eigs_1 = np.sort(np.linalg.eig(m1.Q)[0])\n",
    "ordered_eigs_2 = np.sort(np.linalg.eig(m2.Q)[0])\n",
    "ordered_eigs_3 = np.sort(np.linalg.eig(m3.Q)[0])\n",
    "ordered_eigs_4 = np.sort(np.linalg.eig(m4.Q)[0])\n",
    "ordered_eigs_5 = np.sort(np.linalg.eig(m5.Q)[0])\n",
    "\n",
    "print(f\"Condition number: {cond1}\")\n",
    "print(f\"Condition number: {cond2}\")\n",
    "print(f\"Condition number: {cond3}\")\n",
    "print(f\"Condition number: {cond4}\")\n",
    "print(f\"Condition number: {cond5}\")\n",
    "\n",
    "print(f\"Ordered eigenvalues: {ordered_eigs_1}\")\n",
    "print(f\"Ordered eigenvalues: {ordered_eigs_2}\")\n",
    "print(f\"Ordered eigenvalues: {ordered_eigs_3}\")\n",
    "print(f\"Ordered eigenvalues: {ordered_eigs_4}\")\n",
    "print(f\"Ordered eigenvalues: {ordered_eigs_5}\")"
   ]
  },
  {
   "cell_type": "code",
   "execution_count": 84,
   "metadata": {},
   "outputs": [
    {
     "name": "stdout",
     "output_type": "stream",
     "text": [
      "Separation: 0.9999958036815373\n",
      "Separation: 0.9999999998689175\n",
      "Separation: 1.0\n",
      "Separation: 1.0\n",
      "Separation: (0.9999999999999999+0j)\n"
     ]
    }
   ],
   "source": [
    "# (lamba_n - lambda_1) / (lamba_1 + lambda_n)\n",
    "s_1 = (ordered_eigs_1[-1] - ordered_eigs_1[0]) / (ordered_eigs_1[0] + ordered_eigs_1[-1])\n",
    "s_2 = (ordered_eigs_2[-1] - ordered_eigs_2[0]) / (ordered_eigs_2[0] + ordered_eigs_2[-1])\n",
    "s_3 = (ordered_eigs_3[-1] - ordered_eigs_3[0]) / (ordered_eigs_3[0] + ordered_eigs_3[-1])\n",
    "s_4 = (ordered_eigs_4[-1] - ordered_eigs_4[0]) / (ordered_eigs_4[0] + ordered_eigs_4[-1])\n",
    "s_5 = (ordered_eigs_5[-1] - ordered_eigs_5[0]) / (ordered_eigs_5[0] + ordered_eigs_5[-1])\n",
    "\n",
    "print(f\"Separation: {s_1}\")\n",
    "print(f\"Separation: {s_2}\")\n",
    "print(f\"Separation: {s_3}\")\n",
    "print(f\"Separation: {s_4}\")\n",
    "print(f\"Separation: {s_5}\")"
   ]
  }
 ],
 "metadata": {
  "kernelspec": {
   "display_name": "Python 3",
   "language": "python",
   "name": "python3"
  },
  "language_info": {
   "codemirror_mode": {
    "name": "ipython",
    "version": 3
   },
   "file_extension": ".py",
   "mimetype": "text/x-python",
   "name": "python",
   "nbconvert_exporter": "python",
   "pygments_lexer": "ipython3",
   "version": "3.11.3"
  },
  "orig_nbformat": 4
 },
 "nbformat": 4,
 "nbformat_minor": 2
}
