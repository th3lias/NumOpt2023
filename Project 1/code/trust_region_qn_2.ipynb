{
 "cells": [
  {
   "cell_type": "code",
   "execution_count": 2,
   "metadata": {},
   "outputs": [],
   "source": [
    "import autograd.numpy as np\n",
    "from autograd import grad, hessian\n",
    "import sys"
   ]
  },
  {
   "cell_type": "code",
   "execution_count": 3,
   "metadata": {},
   "outputs": [],
   "source": [
    "def subproblem_solver_cauchyPoint(g, B, delta):\n",
    "    gT_b_g = np.dot(np.dot(g, B), g)\n",
    "    gT_g = np.dot(g, g)\n",
    "    g_norm = np.linalg.norm(g)\n",
    "\n",
    "    if gT_b_g > 0 and abs(gT_g / gT_b_g) * g_norm < delta:\n",
    "        alpha = gT_g / gT_b_g\n",
    "    else:\n",
    "        alpha = delta / g_norm\n",
    "\n",
    "    return -alpha * g"
   ]
  },
  {
   "cell_type": "code",
   "execution_count": 4,
   "metadata": {},
   "outputs": [],
   "source": [
    "def sr1_update(B, s, y):\n",
    "    \"\"\"\n",
    "    Update the Hessian approximation B using the SR1 formula\n",
    "    \"\"\"\n",
    "    u = y - B.dot(s)\n",
    "    denom = u.dot(s)\n",
    "    if abs(denom) > 1e-8:\n",
    "        B = B + np.outer(u,u) / denom;\n",
    "    return B"
   ]
  },
  {
   "cell_type": "code",
   "execution_count": 46,
   "metadata": {},
   "outputs": [],
   "source": [
    "def newton_with_sr1(x0, f, delta, tol=1e-6, max_iter=50000):\n",
    "    \"\"\"\n",
    "    Newton method with SR1 update\n",
    "    \"\"\"\n",
    "    g = grad(f)\n",
    "    B = hessian(f)(x0)\n",
    "    x = x0;\n",
    "    k = 0\n",
    "    grad_norm = None\n",
    "    for i in range(max_iter):\n",
    "        k = i\n",
    "        # solve the subproblem\n",
    "        s = subproblem_solver_cauchyPoint(g(x), B, delta);\n",
    "        # update x\n",
    "        x = x + s;\n",
    "        # update B\n",
    "        B = sr1_update(B, s, g(x) - g(x - s))\n",
    "        # check the stopping criterion\n",
    "        grad_norm = np.linalg.norm(g(x))\n",
    "        if grad_norm < tol:\n",
    "            break\n",
    "    return x,k,grad_norm;"
   ]
  },
  {
   "cell_type": "code",
   "execution_count": 30,
   "metadata": {},
   "outputs": [
    {
     "name": "stdout",
     "output_type": "stream",
     "text": [
      "Minimum point: [0.99999905 0.9999981 ]\n",
      "Minimum value: 8.969903467325634e-13\n",
      "Number of iterations: 8913\n",
      "Gradient norm: 9.99701924401977e-07\n",
      "Distance to solution: 2.1192969901940435e-06\n"
     ]
    }
   ],
   "source": [
    "f = lambda x: 100 * (x[1] - x[0] ** 2) ** 2 + (1 - x[0]) ** 2\n",
    "x0 = np.array([1.2, 1.2])\n",
    "delta = 0.5\n",
    "x, k, deriv = newton_with_sr1(x0,f,delta)\n",
    "print(f\"Minimum point: {x}\")\n",
    "print(f\"Minimum value: {f(x)}\")\n",
    "print(f\"Number of iterations: {k}\")\n",
    "print(f\"Gradient norm: {deriv}\")\n",
    "print(f\"Distance to solution: {np.linalg.norm(x - np.array([1, 1]))}\")"
   ]
  },
  {
   "cell_type": "code",
   "execution_count": 31,
   "metadata": {},
   "outputs": [
    {
     "name": "stdout",
     "output_type": "stream",
     "text": [
      "Minimum point: [0.99999905 0.9999981 ]\n",
      "Minimum value: 8.983410640802916e-13\n",
      "Number of iterations: 9612\n",
      "Gradient norm: 9.984625292112995e-07\n",
      "Distance to solution: 2.1208943892216378e-06\n"
     ]
    }
   ],
   "source": [
    "f = lambda x: 100 * (x[1] - x[0] ** 2) ** 2 + (1 - x[0]) ** 2\n",
    "# starting point = (-1.2, 1)\n",
    "x0 = np.array([-1.2, 1])\n",
    "x, k, deriv = newton_with_sr1(x0,f,delta)\n",
    "print(f\"Minimum point: {x}\")\n",
    "print(f\"Minimum value: {f(x)}\")\n",
    "print(f\"Number of iterations: {k}\")\n",
    "print(f\"Gradient norm: {deriv}\")\n",
    "print(f\"Distance to solution: {np.linalg.norm(x - np.array([1, 1]))}\")"
   ]
  },
  {
   "cell_type": "code",
   "execution_count": 32,
   "metadata": {},
   "outputs": [
    {
     "name": "stdout",
     "output_type": "stream",
     "text": [
      "Minimum point: [0.99999924 0.99999848]\n",
      "Minimum value: 5.729736394101963e-13\n",
      "Number of iterations: 2050\n",
      "Gradient norm: 6.772409923059122e-07\n",
      "Distance to solution: 1.693944970289191e-06\n"
     ]
    }
   ],
   "source": [
    "f = lambda x: 100 * (x[1] - x[0] ** 2) ** 2 + (1 - x[0]) ** 2\n",
    "# starting point = (0.2, 0.8)\n",
    "x0 = np.array([0.2, 0.8])\n",
    "x, k, deriv = newton_with_sr1(x0,f,delta)\n",
    "print(f\"Minimum point: {x}\")\n",
    "print(f\"Minimum value: {f(x)}\")\n",
    "print(f\"Number of iterations: {k}\")\n",
    "print(f\"Gradient norm: {deriv}\")\n",
    "print(f\"Distance to solution: {np.linalg.norm(x - np.array([1, 1]))}\")"
   ]
  },
  {
   "cell_type": "code",
   "execution_count": 33,
   "metadata": {},
   "outputs": [
    {
     "name": "stdout",
     "output_type": "stream",
     "text": [
      "Minimum point: [-1.44547318e-09  1.00000010e+00]\n",
      "Minimum value: 4.330613839908077e-14\n",
      "Number of iterations: 183\n",
      "Gradient norm: 8.59705282055386e-07\n",
      "Distance to solution: 1.0404485052346189e-07\n"
     ]
    }
   ],
   "source": [
    "f = lambda x: 150 * (x[0]*x[1])**2+(0.5*x[0]+2*x[1]-2)**2\n",
    "# point = (-0.2, 1.2)\n",
    "x0 = np.array([-0.2, 1.2])\n",
    "x, k, deriv = newton_with_sr1(x0,f,delta)\n",
    "print(f\"Minimum point: {x}\")\n",
    "print(f\"Minimum value: {f(x)}\")\n",
    "print(f\"Number of iterations: {k}\")\n",
    "print(f\"Gradient norm: {deriv}\")\n",
    "print(f\"Distance to solution: {np.linalg.norm(x - np.array([0, 1]))}\")"
   ]
  },
  {
   "cell_type": "code",
   "execution_count": 47,
   "metadata": {},
   "outputs": [
    {
     "name": "stdout",
     "output_type": "stream",
     "text": [
      "Minimum point: [3.99999432e+00 1.75182364e-09]\n",
      "Minimum value: 8.052412526024316e-12\n",
      "Number of iterations: 49999\n",
      "Gradient norm: 4.082862640663144e-06\n",
      "Distance to solution: 5.679766054520579e-06\n"
     ]
    }
   ],
   "source": [
    "f = lambda x: 150 * (x[0]*x[1])**2+(0.5*x[0]+2*x[1]-2)**2\n",
    "# point = (3.8, 0.1)\n",
    "x0 = np.array([3.8, 0.1])\n",
    "x, k, deriv = newton_with_sr1(x0,f,delta)\n",
    "print(f\"Minimum point: {x}\")\n",
    "print(f\"Minimum value: {f(x)}\")\n",
    "print(f\"Number of iterations: {k}\")\n",
    "print(f\"Gradient norm: {deriv}\")\n",
    "print(f\"Distance to solution: {np.linalg.norm(x - np.array([4, 0]))}\")"
   ]
  },
  {
   "cell_type": "code",
   "execution_count": 48,
   "metadata": {},
   "outputs": [
    {
     "name": "stdout",
     "output_type": "stream",
     "text": [
      "Minimum point: [3.99997520e+00 1.29903258e-08]\n",
      "Minimum value: 1.5354038001770454e-10\n",
      "Number of iterations: 49999\n",
      "Gradient norm: 1.784240370768631e-05\n",
      "Distance to solution: 2.4801541548745696e-05\n"
     ]
    }
   ],
   "source": [
    "f = lambda x: 150 * (x[0]*x[1])**2+(0.5*x[0]+2*x[1]-2)**2\n",
    "# point = (1.9, 0.6)\n",
    "x0 = np.array([1.9, 0.6])\n",
    "x, k, deriv = newton_with_sr1(x0,f,delta)\n",
    "print(f\"Minimum point: {x}\")\n",
    "print(f\"Minimum value: {f(x)}\")\n",
    "print(f\"Number of iterations: {k}\")\n",
    "print(f\"Gradient norm: {deriv}\")\n",
    "print(f\"Distance to solution: {np.linalg.norm(x - np.array([4, 0]))}\")"
   ]
  }
 ],
 "metadata": {
  "kernelspec": {
   "display_name": "Python 3 (ipykernel)",
   "language": "python",
   "name": "python3"
  },
  "language_info": {
   "codemirror_mode": {
    "name": "ipython",
    "version": 3
   },
   "file_extension": ".py",
   "mimetype": "text/x-python",
   "name": "python",
   "nbconvert_exporter": "python",
   "pygments_lexer": "ipython3",
   "version": "3.9.13"
  }
 },
 "nbformat": 4,
 "nbformat_minor": 2
}
