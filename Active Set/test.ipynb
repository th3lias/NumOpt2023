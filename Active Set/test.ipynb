{
 "cells": [
  {
   "cell_type": "code",
   "execution_count": null,
   "metadata": {},
   "outputs": [],
   "source": [
    "import numpy as np\n",
    "import math"
   ]
  },
  {
   "cell_type": "code",
   "execution_count": null,
   "metadata": {},
   "outputs": [],
   "source": [
    "def activesetquadraticprogramming(x, d, G, ce, be, ci, bi, tol, W=[]):\n",
    "    w, v = np.linalg.eig(G)\n",
    "    hasnegigenval = np.any(w < 0)\n",
    "    n = len(x)\n",
    "    ni = len(ci)\n",
    "    ne = len(ce)\n",
    "    ce = np.array(ce)\n",
    "    ci = np.array(ci)\n",
    "    bi = np.array(bi)\n",
    "    be = np.array(be)\n",
    "    if ni == 0:\n",
    "        ci = np.zeros((0, n))\n",
    "    if ne == 0:\n",
    "        ce = np.zeros((0, n))\n",
    "    eq = np.matmul(ce, x) - be\n",
    "    iq = np.matmul(ci, x) - bi\n",
    "    if np.all(np.abs(eq) < tol) and np.all(iq > -tol):\n",
    "        if len(W) != ni:\n",
    "            W = iq < tol\n",
    "    else:\n",
    "        c = np.concatenate((np.zeros(2 * n), np.ones(ni + 2 * ne)))\n",
    "        A = np.concatenate((np.concatenate((-ci, ci, np.eye(ni), np.zeros((ni, 2 * ne))), 1),\n",
    "                            np.concatenate((ce, -ce, np.zeros((ne, ni)), np.eye(ne), np.zeros((ne, ne))), 1),\n",
    "                            np.concatenate((-ce, ce, np.zeros((ne, ni + ne)), np.eye(ne)), 1)), 0)\n",
    "        b = np.concatenate((-bi, be, -be))\n",
    "        x, opt, res = simplextableau(c, A, b)\n",
    "        x = x[0:n] - x[n:2 * n]\n",
    "        W = ci * x - bi < tol\n",
    "        if res != 'solution found':\n",
    "            return x, W, [], 'infeasible constraints'\n",
    "    for k in range(4 * ni + 4):\n",
    "        na = np.sum(W)\n",
    "        A = np.concatenate((ce, ci[W, :]), 0)\n",
    "        b = np.concatenate((be, bi[W]), 0)\n",
    "        c = np.matmul(A, x) - b\n",
    "        g = d + np.matmul(G, x)\n",
    "        K = np.concatenate(\n",
    "            (np.concatenate((G, np.transpose(A)), 1), np.concatenate((A, np.zeros((ne + na, ne + na))), 1)),\n",
    "            0)\n",
    "        npl = np.linalg.solve(K, np.concatenate((g, c), 0))\n",
    "        p = -npl[0:n]\n",
    "\n",
    "        if hasnegigenval:\n",
    "            cdirnegcurv = False\n",
    "            Q, R = np.linalg.qr(np.transpose(A), 'complete')\n",
    "            Z = Q[:, na:]\n",
    "            if not Z.shape[1] == 0:\n",
    "                w, v = np.linalg.eig(np.matmul(np.matmul(np.transpose(Z), G), Z))\n",
    "                if np.min(w) < 0:\n",
    "                    dd = np.matmul(Z, v[:, np.argmin(w)])\n",
    "                    p = -1e4 * np.sign(np.dot(g, dd)) * dd\n",
    "                    cdirnegcurv = True\n",
    "        if np.all(np.abs(p) < tol):\n",
    "            lambdaW = npl[n + ne:n + ne + na]\n",
    "            l = np.zeros(ni)\n",
    "            l[W] = lambdaW\n",
    "            if np.all(lambdaW >= -tol):\n",
    "                return x, W, l, k, 'Solution found'\n",
    "            else:\n",
    "                mlw = np.sort(lambdaW[lambdaW < 0])\n",
    "                ri = mlw[0] == l\n",
    "                if 'ac' in locals() and np.all(ri == ac) and len(mlw) > 1:\n",
    "                    ri = mlw[np.ceil((len(mlw) - 1) * np.rand())] == l\n",
    "                W[ri] = False\n",
    "        else:\n",
    "            cip = np.matmul(ci, p)\n",
    "            bicixcip = (bi - np.matmul(ci, x)) / cip\n",
    "            findminof = bicixcip[np.invert(W) & (cip < 0)]\n",
    "            if len(findminof > 0):\n",
    "                alpha = np.min(findminof)\n",
    "            else:\n",
    "                alpha = 1\n",
    "            if alpha > 1:\n",
    "                alpha = 1\n",
    "            if hasnegigenval and alpha == 1 and cdirnegcurv:\n",
    "                print('Problem unbounded, did not find a constraint in a negative curvature direction')\n",
    "                return x, W, [], k, 'Problem unbounded, did not find a constraint in a negative curvature direction'\n",
    "            x = x + alpha * p\n",
    "            if alpha < 1:\n",
    "                ac = (alpha == bicixcip) & np.invert(W) & (cip < 0)\n",
    "                W = W | ac\n",
    "    print('Problem unbounded, did not find a constraint in a negative curvature direction')\n",
    "    return x, W, l, k, 'Problem unbounded, did not find a constraint in a negative curvature direction'\n",
    "\n",
    "\n",
    "def simplextableau(c, A, b):\n",
    "    tol = 1e-14\n",
    "    res = ''\n",
    "    c = np.array(c)\n",
    "    A = np.array(A)\n",
    "    b = np.array(b)\n",
    "    m, n = A.shape\n",
    "    Ni = np.array(range(n - m))\n",
    "    Bi = np.array(range(m)) + n - m\n",
    "    x = np.zeros((n, 1))\n",
    "    xB = np.array(b)\n",
    "    combs = math.factorial(n) / (math.factorial(m) * math.factorial(n - m))\n",
    "    for k in range(4 * m):\n",
    "        l = np.linalg.solve(A[:, Bi], c[Bi])\n",
    "        sN = c[Ni] - np.matmul(np.transpose(A[:, Ni]), l)\n",
    "        sm = np.min(sN)\n",
    "        qq = np.argmin(sN)\n",
    "        q = Ni[qq]\n",
    "        xm = np.min(xB)\n",
    "        p = np.argmin(xB)\n",
    "        mu = np.minimum(sm, xm)\n",
    "        if mu >= -tol:\n",
    "            res = 'solution found'\n",
    "            break\n",
    "        if mu == sm:\n",
    "            a = A[:, q]\n",
    "            p = np.argmax(a)\n",
    "            phi = A[p, q]\n",
    "            if phi <= tol:\n",
    "                res = 'primal infeasible or unbounded'\n",
    "                break\n",
    "        else:\n",
    "            sigma = A[p, Ni]\n",
    "            qq = np.argmin(sigma)\n",
    "            q = Ni[qq]\n",
    "            phi = A[p, q]\n",
    "            if phi >= -tol:\n",
    "                res = 'dual infeasible or unbounded'\n",
    "        xB[p] = xB[p] / phi\n",
    "        A[p, :] = A[p, :] / phi\n",
    "        oi = list(range(m))\n",
    "        oi.remove(p)\n",
    "        xB[oi] = xB[oi] - A[oi, q] * xB[p]\n",
    "        A[oi, :] = A[oi, :] - np.multiply.outer(A[oi, q], A[p, :])\n",
    "        Ni[Ni == q] = Bi[p]\n",
    "        Bi[p] = q\n",
    "    x[Bi, 0] = xB\n",
    "    opt = np.dot(c, x)\n",
    "    if len(res) == 0:\n",
    "        res = 'Iterations exceed maximum number, cycling may be happening.'\n",
    "    return x, opt[0], res"
   ]
  },
  {
   "cell_type": "code",
   "execution_count": null,
   "metadata": {},
   "outputs": [],
   "source": [
    "def convert_to_standard_QP(M, y, x):\n",
    "    m, n = M.shape[0], 2 * M.shape[0]\n",
    "    # objective function = 1/2 * x^T * G * x + c^T * x = 1/2*(x^T M^T M x - 2 y^T M x (+y^T y))\n",
    "    G = M.T @ M\n",
    "    c = 2 * M.T @ y\n",
    "    ai = np.zeros((m, n))\n",
    "    bi = np.ones(m)\n",
    "    ai[:, :n // 2] = np.eye(m)\n",
    "\n",
    "    return G, c, ai, bi"
   ]
  },
  {
   "cell_type": "code",
   "execution_count": null,
   "metadata": {},
   "outputs": [],
   "source": [
    "# draw M array of shape (m, 2m)\n",
    "M = np.random.rand(2, 4)\n",
    "print(M)"
   ]
  },
  {
   "cell_type": "code",
   "execution_count": null,
   "metadata": {},
   "outputs": [],
   "source": [
    "# draw y such that operator Norm ||M|| <= ||y||_2\n",
    "y = np.random.rand(2, 1)\n",
    "y += 1\n",
    "print(y)"
   ]
  },
  {
   "cell_type": "code",
   "execution_count": null,
   "metadata": {},
   "outputs": [],
   "source": [
    "print(np.linalg.norm(M, ord=2))\n",
    "print(np.linalg.norm(y, ord=2))"
   ]
  },
  {
   "cell_type": "code",
   "execution_count": null,
   "metadata": {},
   "outputs": [],
   "source": [
    "# draw x\n",
    "x = np.random.rand(4, 1)\n",
    "print(x)"
   ]
  },
  {
   "cell_type": "code",
   "execution_count": null,
   "metadata": {},
   "outputs": [],
   "source": [
    "# is f feasible for the problem?\n",
    "print(np.linalg.norm(x, ord=1) <= 1)"
   ]
  },
  {
   "cell_type": "code",
   "execution_count": null,
   "metadata": {},
   "outputs": [],
   "source": [
    "G, c, ai, bi = convert_to_standard_QP(M, y, x)\n",
    "print(G)\n",
    "print(c)\n",
    "print(ai)\n",
    "print(bi)"
   ]
  },
  {
   "cell_type": "code",
   "execution_count": null,
   "metadata": {},
   "outputs": [],
   "source": [
    "# solve the problem\n",
    "x, W, l, k, res = activesetquadraticprogramming(x, c, G, [], [], ai, bi, 1e-6)"
   ]
  },
  {
   "cell_type": "code",
   "execution_count": null,
   "metadata": {},
   "outputs": [],
   "source": [
    "zeros = np.zeros((2,4))\n",
    "M_tilde = np.array([[1,1,0,0],[0,0,1,1]])\n",
    "\n",
    "M = np.array([[M_tilde, zeros, zeros, zeros, zeros],\n",
    "             [zeros, M_tilde, zeros, zeros, zeros],\n",
    "             [zeros, zeros, M_tilde, zeros, zeros],\n",
    "             [zeros, zeros, zeros, M_tilde, zeros],\n",
    "             [zeros, zeros, zeros, zeros, M_tilde]])\n",
    "\n",
    "# make a 10 by 20 matrix of this form\n",
    "M = M.reshape(10, 20)"
   ]
  },
  {
   "cell_type": "code",
   "execution_count": null,
   "metadata": {},
   "outputs": [],
   "source": [
    "print(M)"
   ]
  },
  {
   "cell_type": "code",
   "execution_count": null,
   "metadata": {},
   "outputs": [],
   "source": [
    "M = np.block([  [M_tilde, np.zeros((2,4)), np.zeros((2,4)), np.zeros((2,4)), np.zeros((2,4))],\n",
    "                [np.zeros((2,4)), M_tilde, np.zeros((2,4)), np.zeros((2,4)), np.zeros((2,4))],\n",
    "                [np.zeros((2,4)), np.zeros((2,4)), M_tilde, np.zeros((2,4)), np.zeros((2,4))],\n",
    "                [np.zeros((2,4)), np.zeros((2,4)), np.zeros((2,4)), M_tilde, np.zeros((2,4))],\n",
    "                [np.zeros((2,4)), np.zeros((2,4)), np.zeros((2,4)), np.zeros((2,4)), M_tilde]])"
   ]
  },
  {
   "cell_type": "code",
   "execution_count": null,
   "metadata": {},
   "outputs": [],
   "source": [
    "print(M.shape)\n",
    "print(M)"
   ]
  },
  {
   "cell_type": "code",
   "execution_count": null,
   "metadata": {},
   "outputs": [],
   "source": [
    "print(M.T@M)"
   ]
  },
  {
   "cell_type": "code",
   "execution_count": null,
   "metadata": {},
   "outputs": [],
   "source": []
  }
 ],
 "metadata": {
  "kernelspec": {
   "display_name": "Python 3",
   "language": "python",
   "name": "python3"
  },
  "language_info": {
   "codemirror_mode": {
    "name": "ipython",
    "version": 3
   },
   "file_extension": ".py",
   "mimetype": "text/x-python",
   "name": "python",
   "nbconvert_exporter": "python",
   "pygments_lexer": "ipython3",
   "version": "3.11.2"
  },
  "orig_nbformat": 4
 },
 "nbformat": 4,
 "nbformat_minor": 2
}
