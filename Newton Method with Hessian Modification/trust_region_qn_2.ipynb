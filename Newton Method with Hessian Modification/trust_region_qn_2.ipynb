{
 "cells": [
  {
   "cell_type": "code",
   "execution_count": 40,
   "metadata": {},
   "outputs": [],
   "source": [
    "import autograd.numpy as np\n",
    "from autograd import grad, hessian\n",
    "import sys"
   ]
  },
  {
   "cell_type": "code",
   "execution_count": 97,
   "metadata": {},
   "outputs": [],
   "source": [
    "def subproblem_solver_cauchyPoint(g, B, delta):\n",
    "    gT_b_g = np.dot(np.dot(g, B), g)\n",
    "    gT_g = np.dot(g, g)\n",
    "    g_norm = np.linalg.norm(g)\n",
    "\n",
    "    if gT_b_g > 0 and abs(gT_g / gT_b_g) * g_norm < delta:\n",
    "        alpha = gT_g / gT_b_g\n",
    "    else:\n",
    "        alpha = delta / g_norm\n",
    "\n",
    "    return -alpha * g"
   ]
  },
  {
   "cell_type": "code",
   "execution_count": 98,
   "metadata": {},
   "outputs": [],
   "source": [
    "def sr1_update(B, s, y):\n",
    "    \"\"\"\n",
    "    Update the Hessian approximation B using the SR1 formula\n",
    "    \"\"\"\n",
    "    u = y - B.dot(s)\n",
    "    denom = u.dot(s)\n",
    "    if abs(denom) > 1e-8:\n",
    "        B = B + np.outer(u,u) / denom;\n",
    "    return B"
   ]
  },
  {
   "cell_type": "code",
   "execution_count": 99,
   "metadata": {},
   "outputs": [],
   "source": [
    "def newton_with_sr1(x0, f, g, B, delta, tol=1e-6, max_iter=10000):\n",
    "    \"\"\"\n",
    "    Newton method with SR1 update\n",
    "    \"\"\"\n",
    "    x = x0;\n",
    "    for i in range(max_iter):\n",
    "        # solve the subproblem\n",
    "        s = subproblem_solver_cauchyPoint(g(x), B, delta);\n",
    "        # update x\n",
    "        x = x + s;\n",
    "        # update B\n",
    "        B = sr1_update(B, s, g(x) - g(x - s))\n",
    "        # check the stopping criterion\n",
    "        if np.linalg.norm(s) < tol:\n",
    "            break\n",
    "    return x;"
   ]
  },
  {
   "cell_type": "code",
   "execution_count": 100,
   "metadata": {},
   "outputs": [
    {
     "name": "stdout",
     "output_type": "stream",
     "text": [
      "[0.99957629 0.99915159]\n",
      "1.7966730196262525e-07\n"
     ]
    }
   ],
   "source": [
    "f = lambda x: 100 * (x[1] - x[0]**2)**2 + (1 - x[0])**2\n",
    "g = grad(f)\n",
    "B = hessian(f)\n",
    "x0 = np.array([0., 0.])\n",
    "delta = 1\n",
    "x = newton_with_sr1(x0, f, g, B(x0), delta);\n",
    "print(x)\n",
    "print(f(x))"
   ]
  },
  {
   "cell_type": "code",
   "execution_count": null,
   "metadata": {},
   "outputs": [],
   "source": []
  }
 ],
 "metadata": {
  "kernelspec": {
   "display_name": "Python 3 (ipykernel)",
   "language": "python",
   "name": "python3"
  },
  "language_info": {
   "codemirror_mode": {
    "name": "ipython",
    "version": 3
   },
   "file_extension": ".py",
   "mimetype": "text/x-python",
   "name": "python",
   "nbconvert_exporter": "python",
   "pygments_lexer": "ipython3",
   "version": "3.9.13"
  }
 },
 "nbformat": 4,
 "nbformat_minor": 2
}
