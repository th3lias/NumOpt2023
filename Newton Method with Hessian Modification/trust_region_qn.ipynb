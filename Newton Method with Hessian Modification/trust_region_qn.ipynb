{
 "cells": [
  {
   "cell_type": "code",
   "execution_count": 140,
   "metadata": {},
   "outputs": [],
   "source": [
    "import autograd.numpy as np\n",
    "from autograd import grad, hessian\n",
    "import sys"
   ]
  },
  {
   "cell_type": "code",
   "execution_count": 141,
   "metadata": {},
   "outputs": [],
   "source": [
    "def subproblem_solver(g, B, delta):\n",
    "    \"\"\"\n",
    "    Solve the subproblem min{g^T s + 1/2 s^T B s : ||s|| <= delta}\n",
    "    \"\"\"\n",
    "    # solve the unconstrained problem\n",
    "    # check if B is singular\n",
    "    if np.linalg.cond(B) > 1/sys.float_info.epsilon:\n",
    "        s = -np.linalg.solve(B + 1e-6*np.eye(B.shape[0]), g)\n",
    "    else:\n",
    "        s = -np.linalg.solve(B, g)\n",
    "    # check if the unconstrained solution is within the trust region\n",
    "    if np.linalg.norm(s) <= delta:\n",
    "        return s\n",
    "    # solve the constrained problem\n",
    "    s = -delta * g / np.linalg.norm(g)\n",
    "    return s"
   ]
  },
  {
   "cell_type": "code",
   "execution_count": 142,
   "metadata": {},
   "outputs": [],
   "source": [
    "def sr1_update(B, s, y):\n",
    "    \"\"\"\n",
    "    Update the Hessian approximation B using the SR1 formula\n",
    "    \"\"\"\n",
    "    Bs = np.dot(B, s)\n",
    "    sy = np.dot(s, y)\n",
    "    if sy > 1e-8:\n",
    "        B = B + np.outer(y - Bs, y - Bs) / sy\n",
    "    return B"
   ]
  },
  {
   "cell_type": "code",
   "execution_count": 143,
   "metadata": {},
   "outputs": [],
   "source": [
    "def newton_with_sr1(x0, f, g, B, delta, tol=1e-6, max_iter=100):\n",
    "    \"\"\"\n",
    "    Newton method with SR1 update\n",
    "    \"\"\"\n",
    "    x = x0\n",
    "    for i in range(max_iter):\n",
    "        # solve the subproblem\n",
    "        s = subproblem_solver(g(x), B, delta)\n",
    "        # update x\n",
    "        x = x + s\n",
    "        # update B\n",
    "        B = sr1_update(B, s, g(x) - g(x - s))\n",
    "        # check the stopping criterion\n",
    "        if np.linalg.norm(s) < tol:\n",
    "            break\n",
    "    return x"
   ]
  },
  {
   "cell_type": "code",
   "execution_count": 144,
   "metadata": {},
   "outputs": [
    {
     "ename": "LinAlgError",
     "evalue": "0-dimensional array given. Array must be at least two-dimensional",
     "output_type": "error",
     "traceback": [
      "\u001b[1;31m---------------------------------------------------------------------------\u001b[0m",
      "\u001b[1;31mLinAlgError\u001b[0m                               Traceback (most recent call last)",
      "Cell \u001b[1;32mIn[144], line 6\u001b[0m\n\u001b[0;32m      4\u001b[0m x0 \u001b[39m=\u001b[39m np\u001b[39m.\u001b[39marray([\u001b[39m0.\u001b[39m, \u001b[39m0.\u001b[39m])\n\u001b[0;32m      5\u001b[0m delta \u001b[39m=\u001b[39m \u001b[39m1\u001b[39m\n\u001b[1;32m----> 6\u001b[0m x \u001b[39m=\u001b[39m newton_with_sr1(x0, f, g, B, delta)\n\u001b[0;32m      7\u001b[0m \u001b[39mprint\u001b[39m(x)\n",
      "Cell \u001b[1;32mIn[143], line 8\u001b[0m, in \u001b[0;36mnewton_with_sr1\u001b[1;34m(x0, f, g, B, delta, tol, max_iter)\u001b[0m\n\u001b[0;32m      5\u001b[0m x \u001b[39m=\u001b[39m x0\n\u001b[0;32m      6\u001b[0m \u001b[39mfor\u001b[39;00m i \u001b[39min\u001b[39;00m \u001b[39mrange\u001b[39m(max_iter):\n\u001b[0;32m      7\u001b[0m     \u001b[39m# solve the subproblem\u001b[39;00m\n\u001b[1;32m----> 8\u001b[0m     s \u001b[39m=\u001b[39m subproblem_solver(g(x), B, delta)\n\u001b[0;32m      9\u001b[0m     \u001b[39m# update x\u001b[39;00m\n\u001b[0;32m     10\u001b[0m     x \u001b[39m=\u001b[39m x \u001b[39m+\u001b[39m s\n",
      "Cell \u001b[1;32mIn[141], line 7\u001b[0m, in \u001b[0;36msubproblem_solver\u001b[1;34m(g, B, delta)\u001b[0m\n\u001b[0;32m      2\u001b[0m \u001b[39m\u001b[39m\u001b[39m\"\"\"\u001b[39;00m\n\u001b[0;32m      3\u001b[0m \u001b[39mSolve the subproblem min{g^T s + 1/2 s^T B s : ||s|| <= delta}\u001b[39;00m\n\u001b[0;32m      4\u001b[0m \u001b[39m\"\"\"\u001b[39;00m\n\u001b[0;32m      5\u001b[0m \u001b[39m# solve the unconstrained problem\u001b[39;00m\n\u001b[0;32m      6\u001b[0m \u001b[39m# check if B is singular\u001b[39;00m\n\u001b[1;32m----> 7\u001b[0m \u001b[39mif\u001b[39;00m np\u001b[39m.\u001b[39;49mlinalg\u001b[39m.\u001b[39;49mcond(B) \u001b[39m>\u001b[39m \u001b[39m1\u001b[39m\u001b[39m/\u001b[39msys\u001b[39m.\u001b[39mfloat_info\u001b[39m.\u001b[39mepsilon:\n\u001b[0;32m      8\u001b[0m     s \u001b[39m=\u001b[39m \u001b[39m-\u001b[39mnp\u001b[39m.\u001b[39mlinalg\u001b[39m.\u001b[39msolve(B \u001b[39m+\u001b[39m \u001b[39m1e-6\u001b[39m\u001b[39m*\u001b[39mnp\u001b[39m.\u001b[39meye(B\u001b[39m.\u001b[39mshape[\u001b[39m0\u001b[39m]), g)\n\u001b[0;32m      9\u001b[0m \u001b[39melse\u001b[39;00m:\n",
      "File \u001b[1;32mc:\\Users\\INT005946\\AppData\\Local\\Programs\\Python\\Python311\\Lib\\site-packages\\autograd\\tracer.py:48\u001b[0m, in \u001b[0;36mprimitive.<locals>.f_wrapped\u001b[1;34m(*args, **kwargs)\u001b[0m\n\u001b[0;32m     46\u001b[0m     \u001b[39mreturn\u001b[39;00m new_box(ans, trace, node)\n\u001b[0;32m     47\u001b[0m \u001b[39melse\u001b[39;00m:\n\u001b[1;32m---> 48\u001b[0m     \u001b[39mreturn\u001b[39;00m f_raw(\u001b[39m*\u001b[39;49margs, \u001b[39m*\u001b[39;49m\u001b[39m*\u001b[39;49mkwargs)\n",
      "File \u001b[1;32m<__array_function__ internals>:200\u001b[0m, in \u001b[0;36mcond\u001b[1;34m(*args, **kwargs)\u001b[0m\n",
      "File \u001b[1;32mc:\\Users\\INT005946\\AppData\\Local\\Programs\\Python\\Python311\\Lib\\site-packages\\numpy\\linalg\\linalg.py:1747\u001b[0m, in \u001b[0;36mcond\u001b[1;34m(x, p)\u001b[0m\n\u001b[0;32m   1745\u001b[0m     \u001b[39mraise\u001b[39;00m LinAlgError(\u001b[39m\"\u001b[39m\u001b[39mcond is not defined on empty arrays\u001b[39m\u001b[39m\"\u001b[39m)\n\u001b[0;32m   1746\u001b[0m \u001b[39mif\u001b[39;00m p \u001b[39mis\u001b[39;00m \u001b[39mNone\u001b[39;00m \u001b[39mor\u001b[39;00m p \u001b[39m==\u001b[39m \u001b[39m2\u001b[39m \u001b[39mor\u001b[39;00m p \u001b[39m==\u001b[39m \u001b[39m-\u001b[39m\u001b[39m2\u001b[39m:\n\u001b[1;32m-> 1747\u001b[0m     s \u001b[39m=\u001b[39m svd(x, compute_uv\u001b[39m=\u001b[39;49m\u001b[39mFalse\u001b[39;49;00m)\n\u001b[0;32m   1748\u001b[0m     \u001b[39mwith\u001b[39;00m errstate(\u001b[39mall\u001b[39m\u001b[39m=\u001b[39m\u001b[39m'\u001b[39m\u001b[39mignore\u001b[39m\u001b[39m'\u001b[39m):\n\u001b[0;32m   1749\u001b[0m         \u001b[39mif\u001b[39;00m p \u001b[39m==\u001b[39m \u001b[39m-\u001b[39m\u001b[39m2\u001b[39m:\n",
      "File \u001b[1;32m<__array_function__ internals>:200\u001b[0m, in \u001b[0;36msvd\u001b[1;34m(*args, **kwargs)\u001b[0m\n",
      "File \u001b[1;32mc:\\Users\\INT005946\\AppData\\Local\\Programs\\Python\\Python311\\Lib\\site-packages\\numpy\\linalg\\linalg.py:1623\u001b[0m, in \u001b[0;36msvd\u001b[1;34m(a, full_matrices, compute_uv, hermitian)\u001b[0m\n\u001b[0;32m   1620\u001b[0m         s \u001b[39m=\u001b[39m \u001b[39mabs\u001b[39m(s)\n\u001b[0;32m   1621\u001b[0m         \u001b[39mreturn\u001b[39;00m sort(s)[\u001b[39m.\u001b[39m\u001b[39m.\u001b[39m\u001b[39m.\u001b[39m, ::\u001b[39m-\u001b[39m\u001b[39m1\u001b[39m]\n\u001b[1;32m-> 1623\u001b[0m _assert_stacked_2d(a)\n\u001b[0;32m   1624\u001b[0m t, result_t \u001b[39m=\u001b[39m _commonType(a)\n\u001b[0;32m   1626\u001b[0m extobj \u001b[39m=\u001b[39m get_linalg_error_extobj(_raise_linalgerror_svd_nonconvergence)\n",
      "File \u001b[1;32mc:\\Users\\INT005946\\AppData\\Local\\Programs\\Python\\Python311\\Lib\\site-packages\\numpy\\linalg\\linalg.py:183\u001b[0m, in \u001b[0;36m_assert_stacked_2d\u001b[1;34m(*arrays)\u001b[0m\n\u001b[0;32m    181\u001b[0m \u001b[39mfor\u001b[39;00m a \u001b[39min\u001b[39;00m arrays:\n\u001b[0;32m    182\u001b[0m     \u001b[39mif\u001b[39;00m a\u001b[39m.\u001b[39mndim \u001b[39m<\u001b[39m \u001b[39m2\u001b[39m:\n\u001b[1;32m--> 183\u001b[0m         \u001b[39mraise\u001b[39;00m LinAlgError(\u001b[39m'\u001b[39m\u001b[39m%d\u001b[39;00m\u001b[39m-dimensional array given. Array must be \u001b[39m\u001b[39m'\u001b[39m\n\u001b[0;32m    184\u001b[0m                 \u001b[39m'\u001b[39m\u001b[39mat least two-dimensional\u001b[39m\u001b[39m'\u001b[39m \u001b[39m%\u001b[39m a\u001b[39m.\u001b[39mndim)\n",
      "\u001b[1;31mLinAlgError\u001b[0m: 0-dimensional array given. Array must be at least two-dimensional"
     ]
    }
   ],
   "source": [
    "f = lambda x: 100 * (x[1] - x[0]**2)**2 + (1 - x[0])**2\n",
    "g = grad(f)\n",
    "B = hessian(f)\n",
    "x0 = np.array([0., 0.])\n",
    "delta = 1\n",
    "x = newton_with_sr1(x0, f, g, B, delta)\n",
    "print(x)"
   ]
  },
  {
   "cell_type": "code",
   "execution_count": null,
   "metadata": {},
   "outputs": [],
   "source": []
  }
 ],
 "metadata": {
  "kernelspec": {
   "display_name": "Python 3",
   "language": "python",
   "name": "python3"
  },
  "language_info": {
   "codemirror_mode": {
    "name": "ipython",
    "version": 3
   },
   "file_extension": ".py",
   "mimetype": "text/x-python",
   "name": "python",
   "nbconvert_exporter": "python",
   "pygments_lexer": "ipython3",
   "version": "3.11.2"
  },
  "orig_nbformat": 4
 },
 "nbformat": 4,
 "nbformat_minor": 2
}
