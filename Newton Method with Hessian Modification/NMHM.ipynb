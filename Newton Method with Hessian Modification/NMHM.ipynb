{
 "cells": [
  {
   "cell_type": "code",
   "execution_count": 1,
   "metadata": {},
   "outputs": [],
   "source": [
    "import autograd.numpy as np\n",
    "from autograd import grad, hessian"
   ]
  },
  {
   "cell_type": "code",
   "execution_count": 2,
   "metadata": {},
   "outputs": [],
   "source": [
    "def backtracking(f, x, deriv, p, alpha, c=0.1, rho=0.9):\n",
    "    while f(x+alpha*p) > f(x) + c*alpha*deriv.T.dot(p):\n",
    "        alpha = rho*alpha\n",
    "    return alpha"
   ]
  },
  {
   "cell_type": "code",
   "execution_count": 3,
   "metadata": {},
   "outputs": [],
   "source": [
    "def newton_method_with_modification(f, x0, eps=1e-6):\n",
    "    \"\"\"\n",
    "    Newton's method for finding the minimum of a function f.\n",
    "    :param f: function to minimize\n",
    "    :param x0: initial point\n",
    "    :param eps: tolerance\n",
    "    :return: minimum point, minimum value\n",
    "    \"\"\"\n",
    "    x = x0\n",
    "    grad_fn = grad(f)\n",
    "    hess_fn = hessian(f)\n",
    "    k = 0\n",
    "    while True:\n",
    "        deriv = grad_fn(x)\n",
    "        hess = hess_fn(x)\n",
    "        eigenvalues = np.linalg.eigvals(hess)\n",
    "        \n",
    "        if np.all(eigenvalues > 0):\n",
    "            p = -np.linalg.inv(hess).dot(deriv)\n",
    "        else:\n",
    "            # make all eigenvalues positive\n",
    "            hess = hess + np.eye(len(x)) * (-np.min(eigenvalues) + 1e-6)\n",
    "            p = -np.linalg.inv(hess).dot(deriv)\n",
    "        # check for positive definiteness\n",
    "        print(f\"min eigenvalue: {np.min(np.linalg.eigvals(hess))}\")\n",
    "        if np.linalg.norm(deriv) < eps:\n",
    "            break\n",
    "        alpha = backtracking(f, x, deriv, p, 0.9)\n",
    "        x = x + alpha * p\n",
    "        k += 1\n",
    "        if k > 10_000:\n",
    "            print(f\"No convergence after {k} iterations.\")\n",
    "            break\n",
    "    return x, f(x), k, deriv"
   ]
  },
  {
   "cell_type": "code",
   "execution_count": 4,
   "metadata": {},
   "outputs": [
    {
     "name": "stdout",
     "output_type": "stream",
     "text": [
      "min eigenvalue: 13.645657917237429\n",
      "min eigenvalue: 1.713163526699816\n",
      "min eigenvalue: 0.5164088002709377\n",
      "min eigenvalue: 0.9453395240796283\n",
      "min eigenvalue: 0.4789019229403664\n",
      "min eigenvalue: 0.49671959425887735\n",
      "min eigenvalue: 0.41687577936912135\n",
      "min eigenvalue: 0.40221604792822063\n",
      "min eigenvalue: 0.3996711178661485\n",
      "min eigenvalue: 0.39939209268717946\n",
      "min eigenvalue: 0.39936390296060154\n",
      "min eigenvalue: 0.3993610810645123\n",
      "min eigenvalue: 0.39936079884560627\n",
      "Minimum point: [1.00000001 1.00000001]\n",
      "Minimum value: 7.128493336170037e-17\n",
      "Number of iterations: 12\n",
      "Gradient norm: [ 1.94437006e-07 -9.00770569e-08]\n",
      "Distance to solution: 1.556722369824841e-08\n"
     ]
    }
   ],
   "source": [
    "f = lambda x: 100 * (x[1] - x[0] ** 2) ** 2 + (1 - x[0]) ** 2\n",
    "x0 = np.array([1.2, 1.2])\n",
    "x, f_min, k, deriv = newton_method_with_modification(f, x0)\n",
    "print(f\"Minimum point: {x}\")\n",
    "print(f\"Minimum value: {f_min}\")\n",
    "print(f\"Number of iterations: {k}\")\n",
    "print(f\"Gradient norm: {deriv}\")\n",
    "print(f\"Distance to solution: {np.linalg.norm(x - np.array([1, 1]))}\")"
   ]
  },
  {
   "cell_type": "code",
   "execution_count": 5,
   "metadata": {},
   "outputs": [
    {
     "name": "stdout",
     "output_type": "stream",
     "text": [
      "min eigenvalue: 23.633019348716886\n",
      "min eigenvalue: 2.9850071481186546\n",
      "min eigenvalue: 3.9577525321751637\n",
      "min eigenvalue: 4.765467474277358\n",
      "min eigenvalue: 6.997605561967362\n",
      "min eigenvalue: 7.808139782050233\n",
      "min eigenvalue: 12.803784341900638\n",
      "min eigenvalue: 10.300707057226447\n",
      "min eigenvalue: 16.25501762304657\n",
      "min eigenvalue: 6.909402343097383\n",
      "min eigenvalue: 11.684969279388099\n",
      "min eigenvalue: 3.035098565674218\n",
      "min eigenvalue: 6.952556150113196\n",
      "min eigenvalue: 1.519022472865288\n",
      "min eigenvalue: 2.9869972777374585\n",
      "min eigenvalue: 0.8636157197535113\n",
      "min eigenvalue: 1.179311385014472\n",
      "min eigenvalue: 0.5569286122115216\n",
      "min eigenvalue: 0.5136953902014625\n",
      "min eigenvalue: 0.421143423856023\n",
      "min eigenvalue: 0.4026524305901944\n",
      "min eigenvalue: 0.39971393325350846\n",
      "min eigenvalue: 0.3993963600409245\n",
      "min eigenvalue: 0.3993643295458753\n",
      "min eigenvalue: 0.3993611237215191\n",
      "min eigenvalue: 0.3993608031112501\n",
      "Minimum point: [0.99999999 0.99999999]\n",
      "Minimum value: 5.522678593789617e-17\n",
      "Number of iterations: 25\n",
      "Gradient norm: [ 1.45994471e-07 -7.92831134e-08]\n",
      "Distance to solution: 1.4411304689250775e-08\n"
     ]
    }
   ],
   "source": [
    "f = lambda x: 100 * (x[1] - x[0] ** 2) ** 2 + (1 - x[0]) ** 2\n",
    "# starting point = (-1.2, 1)\n",
    "x0 = np.array([-1.2, 1])\n",
    "x, f_min, k, deriv = newton_method_with_modification(f, x0)\n",
    "print(f\"Minimum point: {x}\")\n",
    "print(f\"Minimum value: {f_min}\")\n",
    "print(f\"Number of iterations: {k}\")\n",
    "print(f\"Gradient norm: {deriv}\")\n",
    "print(f\"Distance to solution: {np.linalg.norm(x - np.array([1, 1]))}\")"
   ]
  },
  {
   "cell_type": "code",
   "execution_count": 6,
   "metadata": {},
   "outputs": [
    {
     "name": "stdout",
     "output_type": "stream",
     "text": [
      "min eigenvalue: 9.999999974752427e-07\n",
      "min eigenvalue: 26.765437036453562\n",
      "min eigenvalue: 3.2519591181778083\n",
      "min eigenvalue: 0.6192009733210568\n",
      "min eigenvalue: 0.8687098456403248\n",
      "min eigenvalue: 0.5248675055046874\n",
      "min eigenvalue: 0.5609278591853979\n",
      "min eigenvalue: 0.4364496200008432\n",
      "min eigenvalue: 0.40941564087793836\n",
      "min eigenvalue: 0.40063428814769964\n",
      "min eigenvalue: 0.3994925498527948\n",
      "min eigenvalue: 0.39937399328826473\n",
      "min eigenvalue: 0.3993620905468447\n",
      "min eigenvalue: 0.3993608997983529\n",
      "Minimum point: [1.00000003 1.00000006]\n",
      "Minimum value: 1.1875121848984107e-15\n",
      "Number of iterations: 13\n",
      "Gradient norm: [ 8.13554844e-07 -3.77961173e-07]\n",
      "Distance to solution: 6.275046533858867e-08\n"
     ]
    }
   ],
   "source": [
    "f = lambda x: 100 * (x[1] - x[0] ** 2) ** 2 + (1 - x[0]) ** 2\n",
    "# starting point = (0.2, 0.8)\n",
    "x0 = np.array([0.2, 0.8])\n",
    "x, f_min, k, deriv = newton_method_with_modification(f, x0)\n",
    "print(f\"Minimum point: {x}\")\n",
    "print(f\"Minimum value: {f_min}\")\n",
    "print(f\"Number of iterations: {k}\")\n",
    "print(f\"Gradient norm: {deriv}\")\n",
    "print(f\"Distance to solution: {np.linalg.norm(x - np.array([1, 1]))}\")"
   ]
  },
  {
   "cell_type": "code",
   "execution_count": 7,
   "metadata": {},
   "outputs": [
    {
     "name": "stdout",
     "output_type": "stream",
     "text": [
      "min eigenvalue: 9.999999974752427e-07\n",
      "min eigenvalue: 4.929456052190954\n",
      "min eigenvalue: 3.1421868059060234\n",
      "min eigenvalue: 7.749280331623141\n",
      "min eigenvalue: 7.98661125135938\n",
      "min eigenvalue: 7.99565971458137\n",
      "min eigenvalue: 7.98752331089828\n",
      "min eigenvalue: 7.986448508364373\n",
      "min eigenvalue: 7.986337767691986\n",
      "min eigenvalue: 7.986326660166466\n",
      "min eigenvalue: 7.986325549078449\n",
      "min eigenvalue: 7.986325437966292\n",
      "Minimum point: [-1.48277537e-09  1.00000001e+00]\n",
      "Minimum value: 4.771095333221083e-16\n",
      "Number of iterations: 11\n",
      "Gradient norm: [-4.32695230e-07  4.85495402e-08]\n",
      "Distance to solution: 6.607898262226106e-09\n"
     ]
    }
   ],
   "source": [
    "f = lambda x: 150 * (x[0]*x[1])**2+(0.5*x[0]+2*x[1]-2)**2\n",
    "# point = (-0.2, 1.2)\n",
    "x0 = np.array([-0.2, 1.2])\n",
    "x, f_min, k, deriv = newton_method_with_modification(f, x0)\n",
    "print(f\"Minimum point: {x}\")\n",
    "print(f\"Minimum value: {f_min}\")\n",
    "print(f\"Number of iterations: {k}\")\n",
    "print(f\"Gradient norm: {deriv}\")\n",
    "print(f\"Distance to solution: {np.linalg.norm(x - np.array([0, 1]))}\")"
   ]
  },
  {
   "cell_type": "code",
   "execution_count": 8,
   "metadata": {},
   "outputs": [
    {
     "name": "stdout",
     "output_type": "stream",
     "text": [
      "min eigenvalue: 1.0000003385357559e-06\n",
      "min eigenvalue: 1.0000003385357559e-06\n",
      "min eigenvalue: 0.4613356327281508\n",
      "min eigenvalue: 0.4338596634424903\n",
      "min eigenvalue: 0.49380100840699015\n",
      "min eigenvalue: 0.49860051527684845\n",
      "min eigenvalue: 0.49911196444099915\n",
      "min eigenvalue: 0.49916237676370656\n",
      "min eigenvalue: 0.499167407958339\n",
      "min eigenvalue: 0.49916791097257374\n",
      "min eigenvalue: 0.4991679612739972\n",
      "min eigenvalue: 0.4991679663035029\n",
      "min eigenvalue: 0.4991679668064535\n",
      "Minimum point: [4.00000000e+00 2.84305733e-11]\n",
      "Minimum value: 3.1940247516021064e-18\n",
      "Number of iterations: 12\n",
      "Gradient norm: [1.11987086e-09 1.40946236e-07]\n",
      "Distance to solution: 4.123105627673307\n"
     ]
    }
   ],
   "source": [
    "f = lambda x: 150 * (x[0]*x[1])**2+(0.5*x[0]+2*x[1]-2)**2\n",
    "# point = (3.8, 0.1)\n",
    "x0 = np.array([3.8, 0.1])\n",
    "x, f_min, k, deriv = newton_method_with_modification(f, x0)\n",
    "print(f\"Minimum point: {x}\")\n",
    "print(f\"Minimum value: {f_min}\")\n",
    "print(f\"Number of iterations: {k}\")\n",
    "print(f\"Gradient norm: {deriv}\")\n",
    "print(f\"Distance to solution: {np.linalg.norm(x - np.array([0, 1]))}\")"
   ]
  },
  {
   "cell_type": "code",
   "execution_count": 9,
   "metadata": {},
   "outputs": [
    {
     "name": "stdout",
     "output_type": "stream",
     "text": [
      "min eigenvalue: 9.99999883788405e-07\n",
      "min eigenvalue: 1.0000003385357559e-06\n",
      "min eigenvalue: 1.0000003385357559e-06\n",
      "min eigenvalue: 1.0000003385357559e-06\n",
      "min eigenvalue: 0.4926374499191297\n",
      "min eigenvalue: 0.48067835129859304\n",
      "min eigenvalue: 0.4925242871295268\n",
      "min eigenvalue: 0.49856337401888595\n",
      "min eigenvalue: 0.4991088980104905\n",
      "min eigenvalue: 0.49916207668320567\n",
      "min eigenvalue: 0.49916737801595445\n",
      "min eigenvalue: 0.4991679079794267\n",
      "min eigenvalue: 0.49916796097477345\n",
      "min eigenvalue: 0.4991679662743991\n",
      "min eigenvalue: 0.499167966803725\n",
      "Minimum point: [4.0000000e+00 2.9912427e-11]\n",
      "Minimum value: 3.3168565981356098e-18\n",
      "Number of iterations: 14\n",
      "Gradient norm: [1.08141052e-09 1.47905292e-07]\n",
      "Distance to solution: 4.123105627592572\n"
     ]
    }
   ],
   "source": [
    "f = lambda x: 150 * (x[0]*x[1])**2+(0.5*x[0]+2*x[1]-2)**2\n",
    "# point = (1.9, 0.6)\n",
    "x0 = np.array([1.9, 0.6])\n",
    "x, f_min, k, deriv = newton_method_with_modification(f, x0)\n",
    "print(f\"Minimum point: {x}\")\n",
    "print(f\"Minimum value: {f_min}\")\n",
    "print(f\"Number of iterations: {k}\")\n",
    "print(f\"Gradient norm: {deriv}\")\n",
    "print(f\"Distance to solution: {np.linalg.norm(x - np.array([0, 1]))}\")"
   ]
  },
  {
   "cell_type": "code",
   "execution_count": 10,
   "metadata": {},
   "outputs": [],
   "source": [
    "def quasi_newton_bfgs(f, x0, eps=1e-6):\n",
    "    x = x0\n",
    "    grad_fn = grad(f)\n",
    "    k = 0\n",
    "    B = np.eye(len(x0))\n",
    "    while True:\n",
    "        deriv = grad_fn(x)\n",
    "        p = -B.dot(deriv)\n",
    "        if np.linalg.norm(deriv) < eps:\n",
    "            break\n",
    "        alpha = backtracking(f, x, deriv, p, 0.9)\n",
    "        s = alpha * p\n",
    "        x_new = x + s\n",
    "        deriv_new = grad_fn(x_new)\n",
    "        y = deriv_new - deriv\n",
    "        rho = 1 / (y.T.dot(s))\n",
    "        B = (np.eye(len(x0)) - rho * s[:, None].dot(y[:, None].T)).dot(B).dot(np.eye(len(x0)) - rho * y[:, None].dot(s[:, None].T)) + rho * s[:, None].dot(s[:, None].T)\n",
    "        x = x_new\n",
    "        k += 1\n",
    "        if k > 10_000:\n",
    "            print(f\"No convergence after {k} iterations.\")\n",
    "            break\n",
    "    return x, f(x), k, deriv"
   ]
  },
  {
   "cell_type": "code",
   "execution_count": 11,
   "metadata": {},
   "outputs": [
    {
     "name": "stdout",
     "output_type": "stream",
     "text": [
      "Minimum point: [0.99999999 0.99999999]\n",
      "Minimum value: 6.52104404048973e-17\n",
      "Number of iterations: 21\n",
      "Gradient norm: [ 1.99706922e-07 -1.05948361e-07]\n",
      "Distance to solution: 1.4104415287228555e-08\n"
     ]
    }
   ],
   "source": [
    "f = lambda x: 100 * (x[1] - x[0] ** 2) ** 2 + (1 - x[0]) ** 2\n",
    "x0 = np.array([1.2, 1.2])\n",
    "x, f_min, k, deriv = quasi_newton_bfgs(f, x0)\n",
    "print(f\"Minimum point: {x}\")\n",
    "print(f\"Minimum value: {f_min}\")\n",
    "print(f\"Number of iterations: {k}\")\n",
    "print(f\"Gradient norm: {deriv}\")\n",
    "print(f\"Distance to solution: {np.linalg.norm(x - np.array([1, 1]))}\")"
   ]
  },
  {
   "cell_type": "code",
   "execution_count": 12,
   "metadata": {},
   "outputs": [
    {
     "name": "stdout",
     "output_type": "stream",
     "text": [
      "Minimum point: [1.         1.00000001]\n",
      "Minimum value: 3.272100358852412e-16\n",
      "Number of iterations: 41\n",
      "Gradient norm: [-6.92159081e-07  3.50551099e-07]\n",
      "Distance to solution: 1.1592955835943192e-08\n"
     ]
    }
   ],
   "source": [
    "f = lambda x: 100 * (x[1] - x[0] ** 2) ** 2 + (1 - x[0]) ** 2\n",
    "# starting point = (-1.2, 1)\n",
    "x0 = np.array([-1.2, 1])\n",
    "x, f_min, k, deriv = quasi_newton_bfgs(f, x0)\n",
    "print(f\"Minimum point: {x}\")\n",
    "print(f\"Minimum value: {f_min}\")\n",
    "print(f\"Number of iterations: {k}\")\n",
    "print(f\"Gradient norm: {deriv}\")\n",
    "print(f\"Distance to solution: {np.linalg.norm(x - np.array([1, 1]))}\")"
   ]
  },
  {
   "cell_type": "code",
   "execution_count": 13,
   "metadata": {},
   "outputs": [
    {
     "name": "stdout",
     "output_type": "stream",
     "text": [
      "Minimum point: [0.99999998 0.99999997]\n",
      "Minimum value: 4.513782224198393e-16\n",
      "Number of iterations: 26\n",
      "Gradient norm: [ 5.66220911e-07 -2.98243386e-07]\n",
      "Distance to solution: 3.5178356428346117e-08\n"
     ]
    }
   ],
   "source": [
    "f = lambda x: 100 * (x[1] - x[0] ** 2) ** 2 + (1 - x[0]) ** 2\n",
    "# starting point = (0.2, 0.8)\n",
    "x0 = np.array([0.2, 0.8])\n",
    "x, f_min, k, deriv = quasi_newton_bfgs(f, x0)\n",
    "print(f\"Minimum point: {x}\")\n",
    "print(f\"Minimum value: {f_min}\")\n",
    "print(f\"Number of iterations: {k}\")\n",
    "print(f\"Gradient norm: {deriv}\")\n",
    "print(f\"Distance to solution: {np.linalg.norm(x - np.array([1, 1]))}\")"
   ]
  },
  {
   "cell_type": "code",
   "execution_count": 14,
   "metadata": {},
   "outputs": [
    {
     "name": "stdout",
     "output_type": "stream",
     "text": [
      "Minimum point: [-3.14603913e-09  9.99999999e-01]\n",
      "Minimum value: 1.4948922651354254e-15\n",
      "Number of iterations: 15\n",
      "Gradient norm: [-9.47014538e-07 -1.28112051e-08]\n",
      "Distance to solution: 3.2498630668176033e-09\n"
     ]
    }
   ],
   "source": [
    "f = lambda x: 150 * (x[0]*x[1])**2+(0.5*x[0]+2*x[1]-2)**2\n",
    "# point = (-0.2, 1.2)\n",
    "x0 = np.array([-0.2, 1.2])\n",
    "x, f_min, k, deriv = quasi_newton_bfgs(f, x0)\n",
    "print(f\"Minimum point: {x}\")\n",
    "print(f\"Minimum value: {f_min}\")\n",
    "print(f\"Number of iterations: {k}\")\n",
    "print(f\"Gradient norm: {deriv}\")\n",
    "print(f\"Distance to solution: {np.linalg.norm(x - np.array([0, 1]))}\")"
   ]
  },
  {
   "cell_type": "code",
   "execution_count": 15,
   "metadata": {},
   "outputs": [
    {
     "name": "stdout",
     "output_type": "stream",
     "text": [
      "Minimum point: [4.00000000e+00 5.46399999e-11]\n",
      "Minimum value: 1.0914566549156722e-17\n",
      "Number of iterations: 12\n",
      "Gradient norm: [-1.93630978e-09  2.54526760e-07]\n",
      "Distance to solution: 4.123105621635381\n"
     ]
    }
   ],
   "source": [
    "f = lambda x: 150 * (x[0]*x[1])**2+(0.5*x[0]+2*x[1]-2)**2\n",
    "# point = (3.8, 0.1)\n",
    "x0 = np.array([3.8, 0.1])\n",
    "x, f_min, k, deriv = quasi_newton_bfgs(f, x0)\n",
    "print(f\"Minimum point: {x}\")\n",
    "print(f\"Minimum value: {f_min}\")\n",
    "print(f\"Number of iterations: {k}\")\n",
    "print(f\"Gradient norm: {deriv}\")\n",
    "print(f\"Distance to solution: {np.linalg.norm(x - np.array([0, 1]))}\")"
   ]
  },
  {
   "cell_type": "code",
   "execution_count": 16,
   "metadata": {},
   "outputs": [
    {
     "name": "stdout",
     "output_type": "stream",
     "text": [
      "Minimum point: [ 4.00000009e+00 -2.11925343e-10]\n",
      "Minimum value: 2.109680589551455e-15\n",
      "Number of iterations: 26\n",
      "Gradient norm: [ 4.47424960e-08 -8.38271709e-07]\n",
      "Distance to solution: 4.1231057133046445\n"
     ]
    }
   ],
   "source": [
    "f = lambda x: 150 * (x[0]*x[1])**2+(0.5*x[0]+2*x[1]-2)**2\n",
    "# point = (1.9, 0.6)\n",
    "x0 = np.array([1.9, 0.6])\n",
    "x, f_min, k, deriv = quasi_newton_bfgs(f, x0)\n",
    "print(f\"Minimum point: {x}\")\n",
    "print(f\"Minimum value: {f_min}\")\n",
    "print(f\"Number of iterations: {k}\")\n",
    "print(f\"Gradient norm: {deriv}\")\n",
    "print(f\"Distance to solution: {np.linalg.norm(x - np.array([0, 1]))}\")"
   ]
  },
  {
   "cell_type": "code",
   "execution_count": 17,
   "metadata": {},
   "outputs": [],
   "source": [
    "def quasi_newton_sr1(f, x0, eps=1e-6):\n",
    "    x = x0\n",
    "    grad_fn = grad(f)\n",
    "    k = 0\n",
    "    B = np.eye(len(x0))\n",
    "\n",
    "    while True:\n",
    "        deriv = grad_fn(x)\n",
    "        p = -B.dot(deriv)\n",
    "\n",
    "        if np.linalg.norm(deriv) < eps:\n",
    "            break\n",
    "\n",
    "        alpha = backtracking(f, x, deriv, p, 0.9)\n",
    "\n",
    "        s = alpha * p\n",
    "\n",
    "        x_new = x + s\n",
    "\n",
    "        deriv_new = grad_fn(x_new)\n",
    "\n",
    "        y = deriv_new - deriv\n",
    "        \n",
    "        u = s - B.dot(s)\n",
    "        if abs(u.dot(s)) > 1e-8:\n",
    "            B = B + np.outer(u, u) / u.dot(s)\n",
    "        x = x_new\n",
    "        k += 1\n",
    "        if k > 10_000:\n",
    "            print(f\"No convergence after {k} iterations.\")\n",
    "            break\n",
    "    return x, f(x), k, deriv"
   ]
  },
  {
   "cell_type": "code",
   "execution_count": 18,
   "metadata": {},
   "outputs": [
    {
     "name": "stdout",
     "output_type": "stream",
     "text": [
      "No convergence after 10001 iterations.\n",
      "Minimum point: [1.00005422 1.00010893]\n",
      "Minimum value: 2.9636956892425516e-09\n",
      "Number of iterations: 10001\n",
      "Gradient norm: [ 1.32482596e-04 -1.17606729e-05]\n",
      "Distance to solution: 0.00012167391422476956\n"
     ]
    }
   ],
   "source": [
    "f = lambda x: 100 * (x[1] - x[0] ** 2) ** 2 + (1 - x[0]) ** 2\n",
    "x0 = np.array([1.2, 1.2])\n",
    "x, f_min, k, deriv = quasi_newton_sr1(f, x0)\n",
    "print(f\"Minimum point: {x}\")\n",
    "print(f\"Minimum value: {f_min}\")\n",
    "print(f\"Number of iterations: {k}\")\n",
    "print(f\"Gradient norm: {deriv}\")\n",
    "print(f\"Distance to solution: {np.linalg.norm(x - np.array([1, 1]))}\")"
   ]
  },
  {
   "cell_type": "code",
   "execution_count": 19,
   "metadata": {},
   "outputs": [
    {
     "name": "stdout",
     "output_type": "stream",
     "text": [
      "No convergence after 10001 iterations.\n",
      "Minimum point: [1.00019406 1.00038996]\n",
      "Minimum value: 3.798314950619329e-08\n",
      "Number of iterations: 10001\n",
      "Gradient norm: [ 4.85721956e-04 -4.78188522e-05]\n",
      "Distance to solution: 0.00043557921732176395\n"
     ]
    }
   ],
   "source": [
    "f = lambda x: 100 * (x[1] - x[0] ** 2) ** 2 + (1 - x[0]) ** 2\n",
    "# starting point = (-1.2, 1)\n",
    "x0 = np.array([-1.2, 1])\n",
    "x, f_min, k, deriv = quasi_newton_sr1(f, x0)\n",
    "print(f\"Minimum point: {x}\")\n",
    "print(f\"Minimum value: {f_min}\")\n",
    "print(f\"Number of iterations: {k}\")\n",
    "print(f\"Gradient norm: {deriv}\")\n",
    "print(f\"Distance to solution: {np.linalg.norm(x - np.array([1, 1]))}\")"
   ]
  },
  {
   "cell_type": "code",
   "execution_count": 20,
   "metadata": {},
   "outputs": [
    {
     "name": "stdout",
     "output_type": "stream",
     "text": [
      "No convergence after 10001 iterations.\n",
      "Minimum point: [0.99994404 0.99988752]\n",
      "Minimum value: 3.163097336858441e-09\n",
      "Number of iterations: 10001\n",
      "Gradient norm: [-1.56715457e-04  2.20835948e-05]\n",
      "Distance to solution: 0.00012563372146944026\n"
     ]
    }
   ],
   "source": [
    "f = lambda x: 100 * (x[1] - x[0] ** 2) ** 2 + (1 - x[0]) ** 2\n",
    "# starting point = (0.2, 0.8)\n",
    "x0 = np.array([0.2, 0.8])\n",
    "x, f_min, k, deriv = quasi_newton_sr1(f, x0)\n",
    "print(f\"Minimum point: {x}\")\n",
    "print(f\"Minimum value: {f_min}\")\n",
    "print(f\"Number of iterations: {k}\")\n",
    "print(f\"Gradient norm: {deriv}\")\n",
    "print(f\"Distance to solution: {np.linalg.norm(x - np.array([1, 1]))}\")"
   ]
  },
  {
   "cell_type": "code",
   "execution_count": 21,
   "metadata": {},
   "outputs": [
    {
     "name": "stdout",
     "output_type": "stream",
     "text": [
      "Minimum point: [-3.22502332e-09  1.00000004e+00]\n",
      "Minimum value: 8.812968323364963e-15\n",
      "Number of iterations: 262\n",
      "Gradient norm: [-8.82343402e-07  3.40654711e-07]\n",
      "Distance to solution: 4.350778661540301e-08\n"
     ]
    }
   ],
   "source": [
    "f = lambda x: 150 * (x[0]*x[1])**2+(0.5*x[0]+2*x[1]-2)**2\n",
    "# point = (-0.2, 1.2)\n",
    "x0 = np.array([-0.2, 1.2])\n",
    "x, f_min, k, deriv = quasi_newton_sr1(f, x0)\n",
    "print(f\"Minimum point: {x}\")\n",
    "print(f\"Minimum value: {f_min}\")\n",
    "print(f\"Number of iterations: {k}\")\n",
    "print(f\"Gradient norm: {deriv}\")\n",
    "print(f\"Distance to solution: {np.linalg.norm(x - np.array([0, 1]))}\")"
   ]
  },
  {
   "cell_type": "code",
   "execution_count": 22,
   "metadata": {},
   "outputs": [
    {
     "name": "stdout",
     "output_type": "stream",
     "text": [
      "No convergence after 10001 iterations.\n",
      "Minimum point: [3.97585717e+00 4.06187129e-06]\n",
      "Minimum value: 0.00014556215708295145\n",
      "Number of iterations: 10001\n",
      "Gradient norm: [-0.01204041  0.03043719]\n",
      "Distance to solution: 4.0996868277687915\n"
     ]
    }
   ],
   "source": [
    "f = lambda x: 150 * (x[0]*x[1])**2+(0.5*x[0]+2*x[1]-2)**2\n",
    "# point = (3.8, 0.1)\n",
    "x0 = np.array([3.8, 0.1])\n",
    "x, f_min, k, deriv = quasi_newton_sr1(f, x0)\n",
    "print(f\"Minimum point: {x}\")\n",
    "print(f\"Minimum value: {f_min}\")\n",
    "print(f\"Number of iterations: {k}\")\n",
    "print(f\"Gradient norm: {deriv}\")\n",
    "print(f\"Distance to solution: {np.linalg.norm(x - np.array([0, 1]))}\")"
   ]
  },
  {
   "cell_type": "code",
   "execution_count": 23,
   "metadata": {},
   "outputs": [
    {
     "name": "stdout",
     "output_type": "stream",
     "text": [
      "No convergence after 10001 iterations.\n",
      "Minimum point: [3.88083739e+00 2.16242984e-05]\n",
      "Minimum value: 0.0035458366626300373\n",
      "Number of iterations: 10001\n",
      "Gradient norm: [-0.05940689  0.16323327]\n",
      "Distance to solution: 4.007599728697291\n"
     ]
    }
   ],
   "source": [
    "f = lambda x: 150 * (x[0]*x[1])**2+(0.5*x[0]+2*x[1]-2)**2\n",
    "# point = (1.9, 0.6)\n",
    "x0 = np.array([1.9, 0.6])\n",
    "x, f_min, k, deriv = quasi_newton_sr1(f, x0)\n",
    "print(f\"Minimum point: {x}\")\n",
    "print(f\"Minimum value: {f_min}\")\n",
    "print(f\"Number of iterations: {k}\")\n",
    "print(f\"Gradient norm: {deriv}\")\n",
    "print(f\"Distance to solution: {np.linalg.norm(x - np.array([0, 1]))}\")"
   ]
  },
  {
   "cell_type": "code",
   "execution_count": 45,
   "metadata": {},
   "outputs": [
    {
     "name": "stdout",
     "output_type": "stream",
     "text": [
      "min eigenvalue: 9.99999883788405e-07\n",
      "min eigenvalue: 1.0000003385357559e-06\n",
      "min eigenvalue: 1.0000003385357559e-06\n",
      "min eigenvalue: 1.0000003385357559e-06\n",
      "min eigenvalue: 0.4926374499191297\n",
      "min eigenvalue: 0.48067835129859304\n",
      "min eigenvalue: 0.4925242871295268\n",
      "min eigenvalue: 0.49856337401888595\n",
      "min eigenvalue: 0.4991088980104905\n",
      "min eigenvalue: 0.49916207668320567\n",
      "min eigenvalue: 0.49916737801595445\n",
      "min eigenvalue: 0.4991679079794267\n",
      "min eigenvalue: 0.49916796097477345\n",
      "min eigenvalue: 0.4991679662743991\n",
      "min eigenvalue: 0.499167966803725\n",
      "Newton method: 14 iterations\n",
      "BFGS: 26 iterations\n",
      "No convergence after 10001 iterations.\n",
      "SR1: 10001 iterations\n"
     ]
    }
   ],
   "source": [
    "# try to outperform classical newton method with quasi newton method\n",
    "f = lambda x: 150 * (x[0]*x[1])**2+(0.5*x[0]+2*x[1]-2)**2\n",
    "x0 = np.array([1.9, 0.6])\n",
    "x, f_min, k, deriv = newton_method_with_modification(f, x0)\n",
    "print(f\"Newton method: {k} iterations\")\n",
    "x, f_min, k, deriv = quasi_newton_bfgs(f, x0)\n",
    "print(f\"BFGS: {k} iterations\")\n",
    "x, f_min, k, deriv = quasi_newton_sr1(f, x0)\n",
    "print(f\"SR1: {k} iterations\")"
   ]
  },
  {
   "cell_type": "code",
   "execution_count": 46,
   "metadata": {},
   "outputs": [
    {
     "name": "stdout",
     "output_type": "stream",
     "text": [
      "min eigenvalue: 9.999999974752427e-07\n",
      "min eigenvalue: 4.929456052190954\n",
      "min eigenvalue: 3.1421868059060234\n",
      "min eigenvalue: 7.749280331623141\n",
      "min eigenvalue: 7.98661125135938\n",
      "min eigenvalue: 7.99565971458137\n",
      "min eigenvalue: 7.98752331089828\n",
      "min eigenvalue: 7.986448508364373\n",
      "min eigenvalue: 7.986337767691986\n",
      "min eigenvalue: 7.986326660166466\n",
      "min eigenvalue: 7.986325549078449\n",
      "min eigenvalue: 7.986325437966292\n",
      "Newton method: 11 iterations\n",
      "BFGS: 15 iterations\n",
      "SR1: 262 iterations\n"
     ]
    }
   ],
   "source": [
    "f = lambda x: 150 * (x[0]*x[1])**2+(0.5*x[0]+2*x[1]-2)**2\n",
    "x0 = np.array([-0.2, 1.2])\n",
    "x, f_min, k, deriv = newton_method_with_modification(f, x0)\n",
    "print(f\"Newton method: {k} iterations\")\n",
    "x, f_min, k, deriv = quasi_newton_bfgs(f, x0)\n",
    "print(f\"BFGS: {k} iterations\")\n",
    "x, f_min, k, deriv = quasi_newton_sr1(f, x0)\n",
    "print(f\"SR1: {k} iterations\")"
   ]
  },
  {
   "attachments": {},
   "cell_type": "markdown",
   "metadata": {},
   "source": [
    "P 6"
   ]
  },
  {
   "cell_type": "code",
   "execution_count": 71,
   "metadata": {},
   "outputs": [
    {
     "name": "stdout",
     "output_type": "stream",
     "text": [
      "min eigenvalue: 1.0000001111620804e-06\n",
      "min eigenvalue: 9.99999429041054e-07\n",
      "min eigenvalue: 0.1727324930470786\n",
      "min eigenvalue: 0.04399487095997756\n",
      "min eigenvalue: 0.45771794964275614\n",
      "min eigenvalue: 0.4933344817163743\n",
      "min eigenvalue: 0.5000942617743931\n",
      "min eigenvalue: 0.49932399190674914\n",
      "min eigenvalue: 0.4991845439726603\n",
      "min eigenvalue: 0.4991696348952246\n",
      "min eigenvalue: 0.49916813376876235\n",
      "min eigenvalue: 0.4991679835547984\n",
      "min eigenvalue: 0.4991679685317649\n",
      "min eigenvalue: 0.4991679670292797\n",
      "Newton method: 13 iterations\n",
      "BFGS: 12 iterations\n"
     ]
    }
   ],
   "source": [
    "f = lambda x: 150 * (x[0]*x[1])**2+(0.5*x[0]+2*x[1]-2)**2\n",
    "x0 = np.array([2.3, 0.1])\n",
    "x, f_min, k, deriv = newton_method_with_modification(f, x0)\n",
    "print(f\"Newton method: {k} iterations\")\n",
    "x, f_min, k, deriv = quasi_newton_bfgs(f, x0)\n",
    "print(f\"BFGS: {k} iterations\")"
   ]
  },
  {
   "cell_type": "code",
   "execution_count": 72,
   "metadata": {},
   "outputs": [
    {
     "name": "stdout",
     "output_type": "stream",
     "text": [
      "min eigenvalue: 9.99999883788405e-07\n",
      "min eigenvalue: 1.0000003385357559e-06\n",
      "min eigenvalue: 0.39936936971571413\n",
      "min eigenvalue: 0.34485654324817006\n",
      "min eigenvalue: 0.5000820818904685\n",
      "min eigenvalue: 0.4998231341414794\n",
      "min eigenvalue: 0.4992634428353995\n",
      "min eigenvalue: 0.49917794206794497\n",
      "min eigenvalue: 0.4991689688486076\n",
      "min eigenvalue: 0.4991680671064387\n",
      "min eigenvalue: 0.49916797688729275\n",
      "min eigenvalue: 0.4991679678651053\n",
      "min eigenvalue: 0.49916796696288657\n",
      "Newton method: 12 iterations\n",
      "BFGS: 11 iterations\n"
     ]
    }
   ],
   "source": [
    "f = lambda x: 150 * (x[0]*x[1])**2+(0.5*x[0]+2*x[1]-2)**2\n",
    "x0 = np.array([3.2, 0.1])\n",
    "x, f_min, k, deriv = newton_method_with_modification(f, x0)\n",
    "print(f\"Newton method: {k} iterations\")\n",
    "x, f_min, k, deriv = quasi_newton_bfgs(f, x0)\n",
    "print(f\"BFGS: {k} iterations\")"
   ]
  }
 ],
 "metadata": {
  "kernelspec": {
   "display_name": "Python 3",
   "language": "python",
   "name": "python3"
  },
  "language_info": {
   "codemirror_mode": {
    "name": "ipython",
    "version": 3
   },
   "file_extension": ".py",
   "mimetype": "text/x-python",
   "name": "python",
   "nbconvert_exporter": "python",
   "pygments_lexer": "ipython3",
   "version": "3.11.2"
  },
  "orig_nbformat": 4
 },
 "nbformat": 4,
 "nbformat_minor": 2
}
