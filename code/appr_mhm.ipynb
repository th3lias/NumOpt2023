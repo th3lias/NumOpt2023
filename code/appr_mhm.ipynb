{
 "cells": [
  {
   "cell_type": "code",
   "execution_count": 1,
   "metadata": {},
   "outputs": [],
   "source": [
    "import autograd.numpy as np\n",
    "from autograd import grad, hessian"
   ]
  },
  {
   "cell_type": "code",
   "execution_count": 2,
   "metadata": {},
   "outputs": [],
   "source": [
    "def approximate_hessian(f, x, eps=np.power(1.1e-16, 1/3, dtype='float32')):\n",
    "    hessian = np.empty(shape=(x.shape[0], x.shape[0]), dtype=x.dtype)\n",
    "\n",
    "    for i in range(x.shape[0]):\n",
    "        for j in range(x.shape[0]):\n",
    "            ei = np.zeros_like(x)\n",
    "            ei[i] = eps\n",
    "            ej = np.zeros_like(x)\n",
    "            ej[j] = eps\n",
    "            hessian[i, j] = (f(x + ei + ej) - f(x + ei) - f(x + ej) + f(x)) / np.power(eps, 2)\n",
    "\n",
    "    return hessian"
   ]
  },
  {
   "cell_type": "code",
   "execution_count": 3,
   "metadata": {},
   "outputs": [],
   "source": [
    "def approximate_gradient(f, x, eps=np.power(1.1e-16, 1/3, dtype='float32')):\n",
    "    grad = np.empty_like(x)\n",
    "\n",
    "    for i in range(x.shape[0]):\n",
    "        ei = np.zeros_like(x)\n",
    "        ei[i] = eps\n",
    "        grad[i] = (f(x + ei) - f(x - ei)) / (2 * eps)\n",
    "\n",
    "    return grad"
   ]
  },
  {
   "cell_type": "code",
   "execution_count": 4,
   "metadata": {},
   "outputs": [],
   "source": [
    "def backtracking(f, x, deriv, p, alpha, c=0.1, rho=0.9):\n",
    "    while f(x+alpha*p) > f(x) + c*alpha*deriv.T.dot(p):\n",
    "        alpha = rho*alpha\n",
    "    return alpha"
   ]
  },
  {
   "cell_type": "code",
   "execution_count": 8,
   "metadata": {},
   "outputs": [],
   "source": [
    "def newton_method_with_modification(f, x0, eps=1e-6):\n",
    "    \"\"\"\n",
    "    Newton's method for finding the minimum of a function f.\n",
    "    :param f: function to minimize\n",
    "    :param x0: initial point\n",
    "    :param eps: tolerance\n",
    "    :return: minimum point, minimum value\n",
    "    \"\"\"\n",
    "    x = x0\n",
    "    k = 0\n",
    "    while True:\n",
    "        deriv = approximate_gradient(f, x)\n",
    "        hess = approximate_hessian(f, x)\n",
    "        eigenvalues = np.linalg.eigvals(hess)\n",
    "        \n",
    "        if np.all(eigenvalues > 0):\n",
    "            p = -np.linalg.inv(hess).dot(deriv)\n",
    "        else:\n",
    "            # make all eigenvalues positive\n",
    "            hess = hess + np.eye(len(x)) * (-np.min(eigenvalues) + 1e-6)\n",
    "            p = -np.linalg.inv(hess).dot(deriv)\n",
    "        # check for positive definiteness\n",
    "        print(f\"min eigenvalue: {np.min(np.linalg.eigvals(hess))}\")\n",
    "        if np.linalg.norm(deriv) < eps:\n",
    "            break\n",
    "        alpha = backtracking(f, x, deriv, p, 0.9)\n",
    "        x = x + alpha * p\n",
    "        k += 1\n",
    "        if k > 10_000:\n",
    "            print(f\"No convergence after {k} iterations.\")\n",
    "            break\n",
    "    return x, f(x), k, deriv"
   ]
  },
  {
   "cell_type": "code",
   "execution_count": 9,
   "metadata": {},
   "outputs": [
    {
     "name": "stdout",
     "output_type": "stream",
     "text": [
      "min eigenvalue: 13.646827534204135\n",
      "min eigenvalue: 1.7144913483811877\n",
      "min eigenvalue: 0.5176815855392647\n",
      "min eigenvalue: 0.9438097192057171\n",
      "min eigenvalue: 0.48044248594814576\n",
      "min eigenvalue: 0.49795850886684434\n",
      "min eigenvalue: 0.4184777202375187\n",
      "min eigenvalue: 0.40377139099214787\n",
      "min eigenvalue: 0.4012014508707864\n",
      "min eigenvalue: 0.4009191625453923\n",
      "min eigenvalue: 0.4008907385220368\n",
      "min eigenvalue: 0.40088790504233884\n",
      "min eigenvalue: 0.4008876156338488\n",
      "Minimum point: [1.         1.00000001]\n",
      "Minimum value: 3.8951296835341877e-17\n",
      "Number of iterations: 12\n",
      "Gradient norm: [ 2.02084201e-07 -9.22460330e-08]\n",
      "Distance to solution: 8.991417183585793e-09\n"
     ]
    }
   ],
   "source": [
    "f = lambda x: 100 * (x[1] - x[0] ** 2) ** 2 + (1 - x[0]) ** 2\n",
    "x0 = np.array([1.2, 1.2])\n",
    "x, f_min, k, deriv = newton_method_with_modification(f, x0)\n",
    "print(f\"Minimum point: {x}\")\n",
    "print(f\"Minimum value: {f_min}\")\n",
    "print(f\"Number of iterations: {k}\")\n",
    "print(f\"Gradient norm: {deriv}\")\n",
    "print(f\"Distance to solution: {np.linalg.norm(x - np.array([1, 1]))}\")"
   ]
  },
  {
   "cell_type": "code",
   "execution_count": 10,
   "metadata": {},
   "outputs": [
    {
     "name": "stdout",
     "output_type": "stream",
     "text": [
      "min eigenvalue: 23.631850096932908\n",
      "min eigenvalue: 2.9836327154171443\n",
      "min eigenvalue: 3.959807705866666\n",
      "min eigenvalue: 4.761376779346307\n",
      "min eigenvalue: 7.008096680327668\n",
      "min eigenvalue: 7.793128440687042\n",
      "min eigenvalue: 12.847910451391414\n",
      "min eigenvalue: 10.259351122708921\n",
      "min eigenvalue: 16.3538981210134\n",
      "min eigenvalue: 6.866879316460626\n",
      "min eigenvalue: 11.781287966883411\n",
      "min eigenvalue: 3.022276907443313\n",
      "min eigenvalue: 6.973651159236397\n",
      "min eigenvalue: 1.518907105078\n",
      "min eigenvalue: 2.9726016963296047\n",
      "min eigenvalue: 0.8641183891202502\n",
      "min eigenvalue: 1.1764064715001155\n",
      "min eigenvalue: 0.5581844979791413\n",
      "min eigenvalue: 0.514451705268641\n",
      "min eigenvalue: 0.42264840218533095\n",
      "min eigenvalue: 0.4041918335918524\n",
      "min eigenvalue: 0.40124426154167736\n",
      "min eigenvalue: 0.4009236683583879\n",
      "min eigenvalue: 0.4008912285171675\n",
      "min eigenvalue: 0.4008879372662477\n",
      "min eigenvalue: 0.40088760249139455\n",
      "Minimum point: [0.99999999 0.99999998]\n",
      "Minimum value: 1.6499742699991328e-16\n",
      "Number of iterations: 25\n",
      "Gradient norm: [ 1.43522404e-07 -7.93860866e-08]\n",
      "Distance to solution: 2.7672443486216457e-08\n"
     ]
    }
   ],
   "source": [
    "f = lambda x: 100 * (x[1] - x[0] ** 2) ** 2 + (1 - x[0]) ** 2\n",
    "# starting point = (-1.2, 1)\n",
    "x0 = np.array([-1.2, 1])\n",
    "x, f_min, k, deriv = newton_method_with_modification(f, x0)\n",
    "print(f\"Minimum point: {x}\")\n",
    "print(f\"Minimum value: {f_min}\")\n",
    "print(f\"Number of iterations: {k}\")\n",
    "print(f\"Gradient norm: {deriv}\")\n",
    "print(f\"Distance to solution: {np.linalg.norm(x - np.array([1, 1]))}\")"
   ]
  },
  {
   "cell_type": "code",
   "execution_count": 11,
   "metadata": {},
   "outputs": [
    {
     "name": "stdout",
     "output_type": "stream",
     "text": [
      "min eigenvalue: 9.999999974752427e-07\n",
      "min eigenvalue: 26.765653514535018\n",
      "min eigenvalue: 3.2531752861067957\n",
      "min eigenvalue: 0.620524074942125\n",
      "min eigenvalue: 0.8677789847096165\n",
      "min eigenvalue: 0.5265794402551478\n",
      "min eigenvalue: 0.5615976655379598\n",
      "min eigenvalue: 0.43809014689739456\n",
      "min eigenvalue: 0.410996210906859\n",
      "min eigenvalue: 0.4021744319063316\n",
      "min eigenvalue: 0.40102062584170994\n",
      "min eigenvalue: 0.4009008865592989\n",
      "min eigenvalue: 0.4008889166292988\n",
      "min eigenvalue: 0.40088772372556036\n",
      "Minimum point: [1.00000003 1.00000006]\n",
      "Minimum value: 1.2846746307875084e-15\n",
      "Number of iterations: 13\n",
      "Gradient norm: [ 8.42447040e-07 -3.86443766e-07]\n",
      "Distance to solution: 6.578032425467065e-08\n"
     ]
    }
   ],
   "source": [
    "f = lambda x: 100 * (x[1] - x[0] ** 2) ** 2 + (1 - x[0]) ** 2\n",
    "# starting point = (0.2, 0.8)\n",
    "x0 = np.array([0.2, 0.8])\n",
    "x, f_min, k, deriv = newton_method_with_modification(f, x0)\n",
    "print(f\"Minimum point: {x}\")\n",
    "print(f\"Minimum value: {f_min}\")\n",
    "print(f\"Number of iterations: {k}\")\n",
    "print(f\"Gradient norm: {deriv}\")\n",
    "print(f\"Distance to solution: {np.linalg.norm(x - np.array([1, 1]))}\")"
   ]
  },
  {
   "cell_type": "code",
   "execution_count": 12,
   "metadata": {},
   "outputs": [
    {
     "name": "stdout",
     "output_type": "stream",
     "text": [
      "min eigenvalue: 9.999999974752427e-07\n",
      "min eigenvalue: 4.929898228116862\n",
      "min eigenvalue: 3.142955485719744\n",
      "min eigenvalue: 7.750251530623309\n",
      "min eigenvalue: 7.986764368784139\n",
      "min eigenvalue: 7.995631800847723\n",
      "min eigenvalue: 7.987501576625799\n",
      "min eigenvalue: 7.986428598744146\n",
      "min eigenvalue: 7.98631807794756\n",
      "min eigenvalue: 7.986306994808605\n",
      "min eigenvalue: 7.986305886383615\n",
      "min eigenvalue: 7.98630577556002\n",
      "Minimum point: [-1.47755612e-09  1.00000001e+00]\n",
      "Minimum value: 4.733720530961321e-16\n",
      "Number of iterations: 11\n",
      "Gradient norm: [-4.31188092e-07  4.83150055e-08]\n",
      "Distance to solution: 6.57688651148357e-09\n"
     ]
    }
   ],
   "source": [
    "f = lambda x: 150 * (x[0]*x[1])**2+(0.5*x[0]+2*x[1]-2)**2\n",
    "# point = (-0.2, 1.2)\n",
    "x0 = np.array([-0.2, 1.2])\n",
    "x, f_min, k, deriv = newton_method_with_modification(f, x0)\n",
    "print(f\"Minimum point: {x}\")\n",
    "print(f\"Minimum value: {f_min}\")\n",
    "print(f\"Number of iterations: {k}\")\n",
    "print(f\"Gradient norm: {deriv}\")\n",
    "print(f\"Distance to solution: {np.linalg.norm(x - np.array([0, 1]))}\")"
   ]
  },
  {
   "cell_type": "code",
   "execution_count": 13,
   "metadata": {},
   "outputs": [
    {
     "name": "stdout",
     "output_type": "stream",
     "text": [
      "min eigenvalue: 1.0000003385357559e-06\n",
      "min eigenvalue: 1.0000003385357559e-06\n",
      "min eigenvalue: 0.46096896987364744\n",
      "min eigenvalue: 0.4331420271046227\n",
      "min eigenvalue: 0.4938016312635227\n",
      "min eigenvalue: 0.4985925716782731\n",
      "min eigenvalue: 0.499106789601683\n",
      "min eigenvalue: 0.4991575430321973\n",
      "min eigenvalue: 0.4991626124165123\n",
      "min eigenvalue: 0.49916311963716\n",
      "min eigenvalue: 0.4991631703969688\n",
      "min eigenvalue: 0.4991631754764967\n",
      "min eigenvalue: 0.4991631759858137\n",
      "Minimum point: [4.00000000e+00 2.86786892e-11]\n",
      "Minimum value: 3.2678424290733832e-18\n",
      "Number of iterations: 12\n",
      "Gradient norm: [1.13750665e-09 1.42207735e-07]\n",
      "Distance to solution: 4.123105627706503\n"
     ]
    }
   ],
   "source": [
    "f = lambda x: 150 * (x[0]*x[1])**2+(0.5*x[0]+2*x[1]-2)**2\n",
    "# point = (3.8, 0.1)\n",
    "x0 = np.array([3.8, 0.1])\n",
    "x, f_min, k, deriv = newton_method_with_modification(f, x0)\n",
    "print(f\"Minimum point: {x}\")\n",
    "print(f\"Minimum value: {f_min}\")\n",
    "print(f\"Number of iterations: {k}\")\n",
    "print(f\"Gradient norm: {deriv}\")\n",
    "print(f\"Distance to solution: {np.linalg.norm(x - np.array([0, 1]))}\")"
   ]
  },
  {
   "cell_type": "code",
   "execution_count": 14,
   "metadata": {},
   "outputs": [
    {
     "name": "stdout",
     "output_type": "stream",
     "text": [
      "min eigenvalue: 9.99999883788405e-07\n",
      "min eigenvalue: 9.99999883788405e-07\n",
      "min eigenvalue: 1.0000003385357559e-06\n",
      "min eigenvalue: 1.0000003385357559e-06\n",
      "min eigenvalue: 0.4927248144958867\n",
      "min eigenvalue: 0.4813732951042766\n",
      "min eigenvalue: 0.4927332919332912\n",
      "min eigenvalue: 0.49857277505634556\n",
      "min eigenvalue: 0.4991053961757643\n",
      "min eigenvalue: 0.49915740969117905\n",
      "min eigenvalue: 0.49916259916972194\n",
      "min eigenvalue: 0.4991631183156642\n",
      "min eigenvalue: 0.49916317026509205\n",
      "min eigenvalue: 0.49916317546376376\n",
      "min eigenvalue: 0.49916317598399473\n",
      "Minimum point: [4.00000000e+00 2.93041522e-11]\n",
      "Minimum value: 3.2018646082543265e-18\n",
      "Number of iterations: 14\n",
      "Gradient norm: [1.06813136e-09 1.44932456e-07]\n",
      "Distance to solution: 4.123105627569315\n"
     ]
    }
   ],
   "source": [
    "f = lambda x: 150 * (x[0]*x[1])**2+(0.5*x[0]+2*x[1]-2)**2\n",
    "# point = (1.9, 0.6)\n",
    "x0 = np.array([1.9, 0.6])\n",
    "x, f_min, k, deriv = newton_method_with_modification(f, x0)\n",
    "print(f\"Minimum point: {x}\")\n",
    "print(f\"Minimum value: {f_min}\")\n",
    "print(f\"Number of iterations: {k}\")\n",
    "print(f\"Gradient norm: {deriv}\")\n",
    "print(f\"Distance to solution: {np.linalg.norm(x - np.array([0, 1]))}\")"
   ]
  },
  {
   "cell_type": "code",
   "execution_count": 16,
   "metadata": {},
   "outputs": [],
   "source": [
    "def quasi_newton_bfgs(f, x0, eps=1e-6):\n",
    "    x = x0\n",
    "    k = 0\n",
    "    B = np.eye(len(x0))\n",
    "    while True:\n",
    "        deriv = approximate_gradient(f, x)\n",
    "        p = -B.dot(deriv)\n",
    "        if np.linalg.norm(deriv) < eps:\n",
    "            break\n",
    "        alpha = backtracking(f, x, deriv, p, 0.9)\n",
    "        s = alpha * p\n",
    "        x_new = x + s\n",
    "        deriv_new = approximate_gradient(f, x_new)\n",
    "        y = deriv_new - deriv\n",
    "        rho = 1 / (y.T.dot(s))\n",
    "        B = (np.eye(len(x0)) - rho * s[:, None].dot(y[:, None].T)).dot(B).dot(np.eye(len(x0)) - rho * y[:, None].dot(s[:, None].T)) + rho * s[:, None].dot(s[:, None].T)\n",
    "        x = x_new\n",
    "        k += 1\n",
    "        if k > 10_000:\n",
    "            print(f\"No convergence after {k} iterations.\")\n",
    "            break\n",
    "    return x, f(x), k, deriv"
   ]
  },
  {
   "cell_type": "code",
   "execution_count": 17,
   "metadata": {},
   "outputs": [
    {
     "name": "stdout",
     "output_type": "stream",
     "text": [
      "Minimum point: [0.99999999 0.99999998]\n",
      "Minimum value: 1.4226060321548344e-16\n",
      "Number of iterations: 21\n",
      "Gradient norm: [ 1.99701941e-07 -1.05945841e-07]\n",
      "Distance to solution: 2.4370489215549155e-08\n"
     ]
    }
   ],
   "source": [
    "f = lambda x: 100 * (x[1] - x[0] ** 2) ** 2 + (1 - x[0]) ** 2\n",
    "x0 = np.array([1.2, 1.2])\n",
    "x, f_min, k, deriv = quasi_newton_bfgs(f, x0)\n",
    "print(f\"Minimum point: {x}\")\n",
    "print(f\"Minimum value: {f_min}\")\n",
    "print(f\"Number of iterations: {k}\")\n",
    "print(f\"Gradient norm: {deriv}\")\n",
    "print(f\"Distance to solution: {np.linalg.norm(x - np.array([1, 1]))}\")"
   ]
  },
  {
   "cell_type": "code",
   "execution_count": 18,
   "metadata": {},
   "outputs": [
    {
     "name": "stdout",
     "output_type": "stream",
     "text": [
      "Minimum point: [1. 1.]\n",
      "Minimum value: 3.072418299587471e-16\n",
      "Number of iterations: 41\n",
      "Gradient norm: [-6.92173799e-07  3.50558027e-07]\n",
      "Distance to solution: 1.5167129166472773e-09\n"
     ]
    }
   ],
   "source": [
    "f = lambda x: 100 * (x[1] - x[0] ** 2) ** 2 + (1 - x[0]) ** 2\n",
    "# starting point = (-1.2, 1)\n",
    "x0 = np.array([-1.2, 1])\n",
    "x, f_min, k, deriv = quasi_newton_bfgs(f, x0)\n",
    "print(f\"Minimum point: {x}\")\n",
    "print(f\"Minimum value: {f_min}\")\n",
    "print(f\"Number of iterations: {k}\")\n",
    "print(f\"Gradient norm: {deriv}\")\n",
    "print(f\"Distance to solution: {np.linalg.norm(x - np.array([1, 1]))}\")"
   ]
  },
  {
   "cell_type": "code",
   "execution_count": 19,
   "metadata": {},
   "outputs": [
    {
     "name": "stdout",
     "output_type": "stream",
     "text": [
      "Minimum point: [0.99999998 0.99999996]\n",
      "Minimum value: 6.114327726624503e-16\n",
      "Number of iterations: 26\n",
      "Gradient norm: [ 5.66088220e-07 -2.98179603e-07]\n",
      "Distance to solution: 4.5449335547398764e-08\n"
     ]
    }
   ],
   "source": [
    "f = lambda x: 100 * (x[1] - x[0] ** 2) ** 2 + (1 - x[0]) ** 2\n",
    "# starting point = (0.2, 0.8)\n",
    "x0 = np.array([0.2, 0.8])\n",
    "x, f_min, k, deriv = quasi_newton_bfgs(f, x0)\n",
    "print(f\"Minimum point: {x}\")\n",
    "print(f\"Minimum value: {f_min}\")\n",
    "print(f\"Number of iterations: {k}\")\n",
    "print(f\"Gradient norm: {deriv}\")\n",
    "print(f\"Distance to solution: {np.linalg.norm(x - np.array([1, 1]))}\")"
   ]
  },
  {
   "cell_type": "code",
   "execution_count": 20,
   "metadata": {},
   "outputs": [
    {
     "name": "stdout",
     "output_type": "stream",
     "text": [
      "Minimum point: [-3.14603912e-09  9.99999999e-01]\n",
      "Minimum value: 1.4948922628219112e-15\n",
      "Number of iterations: 15\n",
      "Gradient norm: [-9.47014538e-07 -1.28112047e-08]\n",
      "Distance to solution: 3.249863038065095e-09\n"
     ]
    }
   ],
   "source": [
    "f = lambda x: 150 * (x[0]*x[1])**2+(0.5*x[0]+2*x[1]-2)**2\n",
    "# point = (-0.2, 1.2)\n",
    "x0 = np.array([-0.2, 1.2])\n",
    "x, f_min, k, deriv = quasi_newton_bfgs(f, x0)\n",
    "print(f\"Minimum point: {x}\")\n",
    "print(f\"Minimum value: {f_min}\")\n",
    "print(f\"Number of iterations: {k}\")\n",
    "print(f\"Gradient norm: {deriv}\")\n",
    "print(f\"Distance to solution: {np.linalg.norm(x - np.array([0, 1]))}\")"
   ]
  },
  {
   "cell_type": "code",
   "execution_count": 21,
   "metadata": {},
   "outputs": [
    {
     "name": "stdout",
     "output_type": "stream",
     "text": [
      "Minimum point: [4.00000000e+00 5.46399999e-11]\n",
      "Minimum value: 1.0914565711582309e-17\n",
      "Number of iterations: 12\n",
      "Gradient norm: [-1.93630944e-09  2.54526761e-07]\n",
      "Distance to solution: 4.123105621635382\n"
     ]
    }
   ],
   "source": [
    "f = lambda x: 150 * (x[0]*x[1])**2+(0.5*x[0]+2*x[1]-2)**2\n",
    "# point = (3.8, 0.1)\n",
    "x0 = np.array([3.8, 0.1])\n",
    "x, f_min, k, deriv = quasi_newton_bfgs(f, x0)\n",
    "print(f\"Minimum point: {x}\")\n",
    "print(f\"Minimum value: {f_min}\")\n",
    "print(f\"Number of iterations: {k}\")\n",
    "print(f\"Gradient norm: {deriv}\")\n",
    "print(f\"Distance to solution: {np.linalg.norm(x - np.array([0, 1]))}\")"
   ]
  },
  {
   "cell_type": "code",
   "execution_count": 22,
   "metadata": {},
   "outputs": [
    {
     "name": "stdout",
     "output_type": "stream",
     "text": [
      "Minimum point: [ 4.00000009e+00 -2.11925812e-10]\n",
      "Minimum value: 2.1096908028880533e-15\n",
      "Number of iterations: 26\n",
      "Gradient norm: [ 4.47426048e-08 -8.38273526e-07]\n",
      "Distance to solution: 4.123105713304858\n"
     ]
    }
   ],
   "source": [
    "f = lambda x: 150 * (x[0]*x[1])**2+(0.5*x[0]+2*x[1]-2)**2\n",
    "# point = (1.9, 0.6)\n",
    "x0 = np.array([1.9, 0.6])\n",
    "x, f_min, k, deriv = quasi_newton_bfgs(f, x0)\n",
    "print(f\"Minimum point: {x}\")\n",
    "print(f\"Minimum value: {f_min}\")\n",
    "print(f\"Number of iterations: {k}\")\n",
    "print(f\"Gradient norm: {deriv}\")\n",
    "print(f\"Distance to solution: {np.linalg.norm(x - np.array([0, 1]))}\")"
   ]
  },
  {
   "cell_type": "code",
   "execution_count": 23,
   "metadata": {},
   "outputs": [],
   "source": [
    "def quasi_newton_sr1(f, x0, eps=1e-6):\n",
    "    x = x0\n",
    "    grad_fn = grad(f)\n",
    "    k = 0\n",
    "    B = np.eye(len(x0))\n",
    "\n",
    "    while True:\n",
    "        deriv = grad_fn(x)\n",
    "        p = -B.dot(deriv)\n",
    "\n",
    "        if np.linalg.norm(deriv) < eps:\n",
    "            break\n",
    "\n",
    "        alpha = backtracking(f, x, deriv, p, 0.9)\n",
    "\n",
    "        s = alpha * p\n",
    "\n",
    "        x_new = x + s\n",
    "\n",
    "        deriv_new = grad_fn(x_new)\n",
    "\n",
    "        y = deriv_new - deriv\n",
    "        \n",
    "        u = s - B.dot(s)\n",
    "        if abs(u.dot(s)) > 1e-8:\n",
    "            B = B + np.outer(u, u) / u.dot(s)\n",
    "        x = x_new\n",
    "        k += 1\n",
    "        if k > 10_000:\n",
    "            print(f\"No convergence after {k} iterations.\")\n",
    "            break\n",
    "    return x, f(x), k, deriv"
   ]
  },
  {
   "cell_type": "code",
   "execution_count": 24,
   "metadata": {},
   "outputs": [
    {
     "name": "stdout",
     "output_type": "stream",
     "text": [
      "No convergence after 10001 iterations.\n",
      "Minimum point: [1.00005422 1.00010893]\n",
      "Minimum value: 2.9636956892425516e-09\n",
      "Number of iterations: 10001\n",
      "Gradient norm: [ 1.32482596e-04 -1.17606729e-05]\n",
      "Distance to solution: 0.00012167391422476956\n"
     ]
    }
   ],
   "source": [
    "f = lambda x: 100 * (x[1] - x[0] ** 2) ** 2 + (1 - x[0]) ** 2\n",
    "x0 = np.array([1.2, 1.2])\n",
    "x, f_min, k, deriv = quasi_newton_sr1(f, x0)\n",
    "print(f\"Minimum point: {x}\")\n",
    "print(f\"Minimum value: {f_min}\")\n",
    "print(f\"Number of iterations: {k}\")\n",
    "print(f\"Gradient norm: {deriv}\")\n",
    "print(f\"Distance to solution: {np.linalg.norm(x - np.array([1, 1]))}\")"
   ]
  },
  {
   "cell_type": "code",
   "execution_count": 25,
   "metadata": {},
   "outputs": [
    {
     "name": "stdout",
     "output_type": "stream",
     "text": [
      "No convergence after 10001 iterations.\n",
      "Minimum point: [1.00019406 1.00038996]\n",
      "Minimum value: 3.798314950619329e-08\n",
      "Number of iterations: 10001\n",
      "Gradient norm: [ 4.85721956e-04 -4.78188522e-05]\n",
      "Distance to solution: 0.00043557921732176395\n"
     ]
    }
   ],
   "source": [
    "f = lambda x: 100 * (x[1] - x[0] ** 2) ** 2 + (1 - x[0]) ** 2\n",
    "# starting point = (-1.2, 1)\n",
    "x0 = np.array([-1.2, 1])\n",
    "x, f_min, k, deriv = quasi_newton_sr1(f, x0)\n",
    "print(f\"Minimum point: {x}\")\n",
    "print(f\"Minimum value: {f_min}\")\n",
    "print(f\"Number of iterations: {k}\")\n",
    "print(f\"Gradient norm: {deriv}\")\n",
    "print(f\"Distance to solution: {np.linalg.norm(x - np.array([1, 1]))}\")"
   ]
  },
  {
   "cell_type": "code",
   "execution_count": 26,
   "metadata": {},
   "outputs": [
    {
     "name": "stdout",
     "output_type": "stream",
     "text": [
      "No convergence after 10001 iterations.\n",
      "Minimum point: [0.99994404 0.99988752]\n",
      "Minimum value: 3.163097336858441e-09\n",
      "Number of iterations: 10001\n",
      "Gradient norm: [-1.56715457e-04  2.20835948e-05]\n",
      "Distance to solution: 0.00012563372146944026\n"
     ]
    }
   ],
   "source": [
    "f = lambda x: 100 * (x[1] - x[0] ** 2) ** 2 + (1 - x[0]) ** 2\n",
    "# starting point = (0.2, 0.8)\n",
    "x0 = np.array([0.2, 0.8])\n",
    "x, f_min, k, deriv = quasi_newton_sr1(f, x0)\n",
    "print(f\"Minimum point: {x}\")\n",
    "print(f\"Minimum value: {f_min}\")\n",
    "print(f\"Number of iterations: {k}\")\n",
    "print(f\"Gradient norm: {deriv}\")\n",
    "print(f\"Distance to solution: {np.linalg.norm(x - np.array([1, 1]))}\")"
   ]
  },
  {
   "cell_type": "code",
   "execution_count": 27,
   "metadata": {},
   "outputs": [
    {
     "name": "stdout",
     "output_type": "stream",
     "text": [
      "Minimum point: [-3.22502332e-09  1.00000004e+00]\n",
      "Minimum value: 8.812968323364963e-15\n",
      "Number of iterations: 262\n",
      "Gradient norm: [-8.82343402e-07  3.40654711e-07]\n",
      "Distance to solution: 4.350778661540301e-08\n"
     ]
    }
   ],
   "source": [
    "f = lambda x: 150 * (x[0]*x[1])**2+(0.5*x[0]+2*x[1]-2)**2\n",
    "# point = (-0.2, 1.2)\n",
    "x0 = np.array([-0.2, 1.2])\n",
    "x, f_min, k, deriv = quasi_newton_sr1(f, x0)\n",
    "print(f\"Minimum point: {x}\")\n",
    "print(f\"Minimum value: {f_min}\")\n",
    "print(f\"Number of iterations: {k}\")\n",
    "print(f\"Gradient norm: {deriv}\")\n",
    "print(f\"Distance to solution: {np.linalg.norm(x - np.array([0, 1]))}\")"
   ]
  },
  {
   "cell_type": "code",
   "execution_count": 28,
   "metadata": {},
   "outputs": [
    {
     "name": "stdout",
     "output_type": "stream",
     "text": [
      "No convergence after 10001 iterations.\n",
      "Minimum point: [3.97585717e+00 4.06187129e-06]\n",
      "Minimum value: 0.00014556215708295145\n",
      "Number of iterations: 10001\n",
      "Gradient norm: [-0.01204041  0.03043719]\n",
      "Distance to solution: 4.0996868277687915\n"
     ]
    }
   ],
   "source": [
    "f = lambda x: 150 * (x[0]*x[1])**2+(0.5*x[0]+2*x[1]-2)**2\n",
    "# point = (3.8, 0.1)\n",
    "x0 = np.array([3.8, 0.1])\n",
    "x, f_min, k, deriv = quasi_newton_sr1(f, x0)\n",
    "print(f\"Minimum point: {x}\")\n",
    "print(f\"Minimum value: {f_min}\")\n",
    "print(f\"Number of iterations: {k}\")\n",
    "print(f\"Gradient norm: {deriv}\")\n",
    "print(f\"Distance to solution: {np.linalg.norm(x - np.array([0, 1]))}\")"
   ]
  },
  {
   "cell_type": "code",
   "execution_count": 29,
   "metadata": {},
   "outputs": [
    {
     "name": "stdout",
     "output_type": "stream",
     "text": [
      "No convergence after 10001 iterations.\n",
      "Minimum point: [3.88083739e+00 2.16242984e-05]\n",
      "Minimum value: 0.0035458366626300373\n",
      "Number of iterations: 10001\n",
      "Gradient norm: [-0.05940689  0.16323327]\n",
      "Distance to solution: 4.007599728697291\n"
     ]
    }
   ],
   "source": [
    "f = lambda x: 150 * (x[0]*x[1])**2+(0.5*x[0]+2*x[1]-2)**2\n",
    "# point = (1.9, 0.6)\n",
    "x0 = np.array([1.9, 0.6])\n",
    "x, f_min, k, deriv = quasi_newton_sr1(f, x0)\n",
    "print(f\"Minimum point: {x}\")\n",
    "print(f\"Minimum value: {f_min}\")\n",
    "print(f\"Number of iterations: {k}\")\n",
    "print(f\"Gradient norm: {deriv}\")\n",
    "print(f\"Distance to solution: {np.linalg.norm(x - np.array([0, 1]))}\")"
   ]
  },
  {
   "cell_type": "code",
   "execution_count": 30,
   "metadata": {},
   "outputs": [
    {
     "name": "stdout",
     "output_type": "stream",
     "text": [
      "min eigenvalue: 9.99999883788405e-07\n",
      "min eigenvalue: 9.99999883788405e-07\n",
      "min eigenvalue: 1.0000003385357559e-06\n",
      "min eigenvalue: 1.0000003385357559e-06\n",
      "min eigenvalue: 0.4927248144958867\n",
      "min eigenvalue: 0.4813732951042766\n",
      "min eigenvalue: 0.4927332919332912\n",
      "min eigenvalue: 0.49857277505634556\n",
      "min eigenvalue: 0.4991053961757643\n",
      "min eigenvalue: 0.49915740969117905\n",
      "min eigenvalue: 0.49916259916972194\n",
      "min eigenvalue: 0.4991631183156642\n",
      "min eigenvalue: 0.49916317026509205\n",
      "min eigenvalue: 0.49916317546376376\n",
      "min eigenvalue: 0.49916317598399473\n",
      "Newton method: 14 iterations\n",
      "BFGS: 26 iterations\n",
      "No convergence after 10001 iterations.\n",
      "SR1: 10001 iterations\n"
     ]
    }
   ],
   "source": [
    "# try to outperform classical newton method with quasi newton method\n",
    "f = lambda x: 150 * (x[0]*x[1])**2+(0.5*x[0]+2*x[1]-2)**2\n",
    "x0 = np.array([1.9, 0.6])\n",
    "x, f_min, k, deriv = newton_method_with_modification(f, x0)\n",
    "print(f\"Newton method: {k} iterations\")\n",
    "x, f_min, k, deriv = quasi_newton_bfgs(f, x0)\n",
    "print(f\"BFGS: {k} iterations\")\n",
    "x, f_min, k, deriv = quasi_newton_sr1(f, x0)\n",
    "print(f\"SR1: {k} iterations\")"
   ]
  },
  {
   "cell_type": "code",
   "execution_count": 31,
   "metadata": {},
   "outputs": [
    {
     "name": "stdout",
     "output_type": "stream",
     "text": [
      "min eigenvalue: 9.999999974752427e-07\n",
      "min eigenvalue: 4.929898228116862\n",
      "min eigenvalue: 3.142955485719744\n",
      "min eigenvalue: 7.750251530623309\n",
      "min eigenvalue: 7.986764368784139\n",
      "min eigenvalue: 7.995631800847723\n",
      "min eigenvalue: 7.987501576625799\n",
      "min eigenvalue: 7.986428598744146\n",
      "min eigenvalue: 7.98631807794756\n",
      "min eigenvalue: 7.986306994808605\n",
      "min eigenvalue: 7.986305886383615\n",
      "min eigenvalue: 7.98630577556002\n",
      "Newton method: 11 iterations\n",
      "BFGS: 15 iterations\n",
      "SR1: 262 iterations\n"
     ]
    }
   ],
   "source": [
    "f = lambda x: 150 * (x[0]*x[1])**2+(0.5*x[0]+2*x[1]-2)**2\n",
    "x0 = np.array([-0.2, 1.2])\n",
    "x, f_min, k, deriv = newton_method_with_modification(f, x0)\n",
    "print(f\"Newton method: {k} iterations\")\n",
    "x, f_min, k, deriv = quasi_newton_bfgs(f, x0)\n",
    "print(f\"BFGS: {k} iterations\")\n",
    "x, f_min, k, deriv = quasi_newton_sr1(f, x0)\n",
    "print(f\"SR1: {k} iterations\")"
   ]
  },
  {
   "cell_type": "code",
   "execution_count": null,
   "metadata": {},
   "outputs": [],
   "source": []
  }
 ],
 "metadata": {
  "kernelspec": {
   "display_name": "Python 3",
   "language": "python",
   "name": "python3"
  },
  "language_info": {
   "codemirror_mode": {
    "name": "ipython",
    "version": 3
   },
   "file_extension": ".py",
   "mimetype": "text/x-python",
   "name": "python",
   "nbconvert_exporter": "python",
   "pygments_lexer": "ipython3",
   "version": "3.11.2"
  },
  "orig_nbformat": 4
 },
 "nbformat": 4,
 "nbformat_minor": 2
}
